{
 "cells": [
  {
   "cell_type": "markdown",
   "id": "d68b4a02",
   "metadata": {},
   "source": [
    "---\n",
    "title: Dynamic Model of Land ownership\n",
    "subtitle: Evolve markdown documents and notebooks into structured data\n",
    "author:\n",
    "  - name: Matt J. Baker\n",
    "    affiliations: Hunter College and The Graduate Center, CUNY\n",
    "    orcid:  \n",
    "    email: \n",
    "license:\n",
    "  code: MIT\n",
    "date: 2024/06/24\n",
    "export: pdf\n",
    "---"
   ]
  },
  {
   "cell_type": "markdown",
   "id": "47fb424e-7a62-4fd5-8b8b-9039fe37c382",
   "metadata": {},
   "source": [
    "# Dynamic Model of land ownership\n",
    "\n",
    "### Discussion points\n",
    "\n",
    "- Formal land ownership, as we see it, relative to informal land ownership, _separates the different components of ownership into distinct tasks_. This is a little bit like the evolution of the definition of property rights from the late 19th to the 20th century, as detailed by Adelstein in _The Exchange Order_. That is, we think about property rights as not just \"possession,\" but as a bundle of different things one can do with property. Here, the basic functions are \"use, exclude, rent, sell.\"\n",
    "- Informal land ownership is completely driven by labor - that is, the act of allocating labor to a parcel conveys ownership of it while at the same time involves actually working the land. Here, \"possession\" is kind of everything.\n",
    "- By contrast, our vision of _formal land ownership_ now separates different functions: _exerting ownership_, and working land, are two different things, along with...\n",
    "- A third activity I call _maintaining ownership_. This is not allowing rights over land to depreciate when the user is finished with the land and instead seeking to direct the transfer of land ownership rights to someone else. To me, this is the hardest type of ownership to get used to, and make take some practice from the perspective of society. More on that later, and for now we are going to imagine that this primarily runs through some sort of notion of resource depletion.\n",
    "\n",
    "### Social aspects\n",
    "\n",
    "One thing that seems important is that things like respect for property rights might matter. As an example, people may expect that ownership requires usage; if they don't have this expectation, I will have to work very hard to keep people off of land that I am not using. We haven't pursued this yet. "
   ]
  },
  {
   "cell_type": "markdown",
   "id": "17ea7eff-9463-41fc-9bb2-69a01a2eaf93",
   "metadata": {},
   "source": [
    "## Basic setup\n",
    "\n",
    "Imagine that the typical agent has a payoff function as follows:\n",
    "\n",
    "$$\n",
    "L_t = w_{ft}l_{ft} + w_{ct}l_{ct} + r_t(f(g_t)+x_{bt})-p_tx_{bt} +  p_{t+1}h(f(g_t)+x_{bt}, m_t))\n",
    "$$\n",
    "$$\n",
    "+\\lambda_t(1-l_{ft}-l_{ct}-g_t-m_t)\n",
    "$$\n",
    "\n",
    "1. In the above, we have wages in the formal sector, $w_{ft}$ multiplied by time spent in the formal sector, $l_{ft}$, \"wages\" $w_{ct}$ in the common or informal sector times time spent there $l_{ct}$. \n",
    "\n",
    "1. We also have $f(g_t)$ and $x_{bt}$ jointly determining the land endowment of the agent. These are the amount of land secured via time spent grabbing land $g_t$ and the amount of land purchased $x_{bt}$. Owed land yields a rental rate of $r_t$. \n",
    "\n",
    "1. The last part of the expression is the weirdest. Agents live one period, but can sell their land to incoming agents at the market price $p_{t+1}$ at the end of the period. But, this requires extension and maintenance of ownership, which requires effort $m_t$. The function $h(\\cdot)$ translates acquired land into salable land at the beginning of the next period. The passing of a dynamic interest is thus a separate task of land ownership."
   ]
  },
  {
   "cell_type": "markdown",
   "id": "b6f1115f-52f3-46b7-8857-a80df45edcff",
   "metadata": {},
   "source": [
    "## First order conditions:\n",
    "\n",
    "Solution of the system really gives us a series of equilibrium conditions. For example, our two labor conditions give:\n",
    "\n",
    "$$\n",
    "w_{ft} - \\lambda_t = 0\n",
    "$$\n",
    "$$\n",
    "w_{ct} - \\lambda_t = 0\n",
    "$$\n",
    "\n",
    "Which just implies that $w_{ft}=w_{ct}$ - labor returns across the formal and common sectors must be equal. The key thing for us is that this gives us an expression for a wage, \n",
    "\n",
    "$$\n",
    "w_t = w_{ft} = w_{ct} = w(X_{ct},X_{ft},A_t,n_t)\n",
    "$$\n",
    "\n",
    "that depends upon how much land is common, how much is formal, technology (a vector), and population. Also, we clearly have $w_t=\\lambda_t$, so the _shadow costs_ of any property-based efforts are the wage, which has its $w_{ct}$ component. This suggests, right away, that it is a waste of time to acquire formal rights if the commons yields a sufficiently high return. "
   ]
  },
  {
   "cell_type": "markdown",
   "id": "b29cc91e-b690-4421-95ad-de0420cb1907",
   "metadata": {},
   "source": [
    "## Labor Allocation - A static problem\n",
    "\n",
    "Given some allotment $l_t$ to actual, productive labor, we can solve for labor allocated to the formal and informal sectors as follows. Suppose that there is some total amount of land $X_{ft}$ in the formal sector, and some amount of land $X_{ct}$ in the informal sector. In the informal sector, labor earns average product, so we have:\n",
    "\n",
    "$$\n",
    "w_{ct} = A_{ct}\\left(\\frac{X_{ct}}{L_{ct}}\\right)^\\alpha\n",
    "$$\n",
    "\n",
    "\n",
    "In the formal sector, labor earns a wage equal to its marginal product, so we have:\n",
    "\n",
    "$$\n",
    "w_{ft} = (1-\\alpha)A_{ft}\\left(\\frac{X_{ft}}{L_{ft}}\\right)^\\alpha\n",
    "$$"
   ]
  },
  {
   "cell_type": "markdown",
   "id": "269c8557-d208-40a3-b617-7a8209b47a80",
   "metadata": {},
   "source": [
    "In equilibrium, we have:\n",
    "\n",
    "$$\n",
    "A_{ct}\\left(\\frac{X_{ct}}{L-L_{ft}}\\right)^\\alpha=(1-\\alpha)A_{ft}\\left(\\frac{X_{ft}}{L_{ft}}\\right)^\\alpha\n",
    "$$"
   ]
  },
  {
   "cell_type": "markdown",
   "id": "e74594d3-69f0-413c-b194-b3607dfd6041",
   "metadata": {},
   "source": [
    "## Solutions\n",
    "\n",
    "We then have solutions for the aggregate amount of labor allocated to each use as:\n",
    "\n",
    "$$\n",
    "L_{ft}^* = \\frac{[(1-\\alpha)A_{ft}]^\\frac{1}{\\alpha}X_{ft}}{[(1-\\alpha)A_{ft}]^\\frac{1}{\\alpha}X_{ft} + A_{ct}^\\frac{1}{\\alpha}X_{ct}}L\n",
    "$$\n",
    "\n",
    "and\n",
    "\n",
    "$$\n",
    "L_{ct}^* = \\frac{A_{ct}^\\frac{1}{\\alpha}X_{ct}}{[(1-\\alpha)A_{ft}]^\\frac{1}{\\alpha}X_{ft} + A_{ct}^\\frac{1}{\\alpha}X_{ct}}L\n",
    "$$\n",
    "\n",
    "### Per-agent terms\n",
    "\n",
    "Note that these also apply in per-unit terms; that is, we expect that each agent will allocate his or her working labor on this basis as well:\n",
    "\n",
    "$$\n",
    "l_{ft}^* = \\frac{[(1-\\alpha)A_{ft}]^\\frac{1}{\\alpha}X_{ft}}{[(1-\\alpha)A_{ft}]^\\frac{1}{\\alpha}X_{ft} + A_{ct}^\\frac{1}{\\alpha}X_{ct}} l\n",
    "$$\n",
    "\n",
    "and\n",
    "\n",
    "$$\n",
    "l_{ct}^* = \\frac{A_{ct}^\\frac{1}{\\alpha}X_{ct}}{[(1-\\alpha)A_{ft}]^\\frac{1}{\\alpha}X_{ft} + A_{ct}^\\frac{1}{\\alpha}X_{ct}} l\n",
    "$$"
   ]
  },
  {
   "cell_type": "markdown",
   "id": "390dcc17-3d24-4f6e-91fa-3b1b66d171de",
   "metadata": {},
   "source": [
    "### Note on Use Intensities\n",
    "\n",
    "If we multiply each of the above by $n$, the population, and then divide by the land type, we have:\n",
    "\n",
    "$$\n",
    "u_{ft} = \\frac{[(1-\\alpha)A_{ft}]^\\frac{1}{\\alpha}n_tl_t}{[(1-\\alpha)A_{ft}]^\\frac{1}{\\alpha}X_{ft} + A_{ct}^\\frac{1}{\\alpha}X_{ct}} \n",
    "$$\n",
    "\n",
    "$$\n",
    "u_{ct}^* = \\frac{A_{ct}^\\frac{1}{\\alpha}n_tl_t}{[(1-\\alpha)A_{ft}]^\\frac{1}{\\alpha}X_{ft} + A_{ct}^\\frac{1}{\\alpha}X_{ct}} \n",
    "$$"
   ]
  },
  {
   "cell_type": "markdown",
   "id": "58e2f738-a2c1-40b9-96b2-aab378b18608",
   "metadata": {},
   "source": [
    "The above will matter when we really get going in earnest..."
   ]
  },
  {
   "cell_type": "markdown",
   "id": "3053a5a3-ab5f-4c93-8093-0019be23ebb2",
   "metadata": {},
   "source": [
    "## Equilibrium Labor Earnings - Static Solution\n",
    "\n",
    "What we have in mind here are equilibrium \"wages\" really mean equilibrium returns to productive labor. The wage in a simple way as a function of \"work labor\" is as follows, which subsumes the split between working in the common sector or the formal sector:\n",
    "\n",
    "$$\n",
    "w_t=w_{ct}=w_{ft} = \\left(\\frac{[(1-\\alpha)A_{ft}]^\\frac{1}{\\alpha}X_{ft} + A_{ct}^\\frac{1}{\\alpha}X_{ct}}{n_tl_t}\\right)^\\alpha \n",
    "$$\n",
    "\n",
    "As usual, the wage can be either increasing or decreasing in the relative amount of private property available, $X_{ft}$. This depends upon relative technology."
   ]
  },
  {
   "cell_type": "markdown",
   "id": "3a12ff03-ea5e-4eb8-9df0-bd17a7e18e3c",
   "metadata": {},
   "source": [
    "## Equilibrium Rental Rates - Static Solution\n",
    "\n",
    "Similarly, this part of the model doesn't change with the specification. \n",
    "\n",
    "$$\n",
    "r_t = \\alpha A_{ft}\\left(\\frac{L_{ft}}{X_{ft}}\\right)^{1-\\alpha}\n",
    "$$\n",
    "\n",
    "Or, using equilibrium labor allocations (this takes a bit of algebra):\n",
    "\n",
    "$$\n",
    "r_t = \\frac{\\alpha}{1-\\alpha}[(1-\\alpha)A_{ft}]^\\frac{1}{\\alpha}\\left(\\frac{[(1-\\alpha)A_{ft}]^\\frac{1}{\\alpha}X_{ft} + A_{ct}^\\frac{1}{\\alpha}X_{ct}}{nl_t}\\right)^{\\alpha-1}\n",
    "$$"
   ]
  },
  {
   "cell_type": "markdown",
   "id": "e76b4d0e-0854-4262-8ae1-ea42bc2efc36",
   "metadata": {},
   "source": [
    "All of this summarizes the static content of the model. Land ownership decisions and their evolution require dynamics. \n",
    "\n",
    "## Land ownership dynamics"
   ]
  },
  {
   "cell_type": "markdown",
   "id": "4c8086d5-0706-4d42-95d4-78407fce2426",
   "metadata": {},
   "source": [
    "The critical factor describing dynamics is that two things be incorporated:\n",
    "\n",
    "- establishment of ownership over land $g$, and\n",
    "- maintenance of ownership over land $m$. "
   ]
  },
  {
   "cell_type": "markdown",
   "id": "98cd599b-025e-457b-b15b-6a0df2bc0a50",
   "metadata": {},
   "source": [
    "### Establishment\n",
    "\n",
    "We start with adding up, which in this context means that the total amount of land in the formal sector is maintained land rights plus emergent land rights, or something like:\n",
    "\n",
    "$$\n",
    "X_{ft} = X_{et} + X_{mt}\n",
    "$$\n",
    "and then\n",
    "$$\n",
    "X_{ft} = F(G_t,X_{at}) + X_{mt}\n",
    "$$\n",
    "\n",
    "where $X_{at}$ is some amount of land that is _available for squatting or use_. \n",
    "\n",
    "**We will begin by analyzing dynamics of land use and depletion when there is no maintenance of rights**"
   ]
  },
  {
   "cell_type": "markdown",
   "id": "1cbc2493-379d-4a78-bf32-b504878d526e",
   "metadata": {},
   "source": [
    "### Land fertility dynamics\n",
    "\n",
    "So, we start with the following idea. When land is utilitized, suppose that there is some probability that it goes dormant, and therefore is no longer useable. We can imagine that this means that its TFP parameter $A_i=0$, and perhaps only recovers over time. Under circumstances, in which the model consists of a sequence of one-period models, there is never any reason to own such land, so might consider dropping it from consideration.  \n",
    "\n",
    "These are dynamic externalities, in effect, as people don't consider optimal use of land, we shall say. Anyways, above we developed these terms as $\n",
    "u_{ct} = \\frac{L_{ct}}{X_{ct}}$ and $u_{ft} = \\frac{L_{ft}}{X_{ft}}$. \n",
    "\n",
    "but we now interpret $X_{ft}$ is and $X_{ct}$ are the amounts of _currently productive_ land in each sector. \n",
    "\n",
    "### The double-edged sword of intensity\n",
    "\n",
    "While we won't start this way, perhaps we should eventually think about things in a more expansive manner:\n",
    "\n",
    "- Use intensity helps in that it might generate endogenous technological progress\n",
    "- Use intensity hurts because it results in land overuse."
   ]
  },
  {
   "cell_type": "markdown",
   "id": "8bcd276b-7433-4282-a2a0-4c98ebd41f9c",
   "metadata": {},
   "source": [
    "#### Depletion\n",
    "\n",
    "Imagine that there are depletion parameters $\\delta_i$ for each sector, which functions like a probability that TFP $A$ goes to zero. There is also some exogenous $\\rho$ probability a depleted unit of land recovers, which could depend upon land use, but let's not go there yet. How much \"depleted\" land is out there? Well, \n",
    "\n",
    "$$\n",
    "X_{dt} = X_{dt-1}(1-\\rho) + \\delta_c\\left(u_{ct}\\right)X_{ct} + \\delta_f\\left(u_{ft}\\right)X_{ft}\n",
    "$$\n",
    "\n",
    "What is the amount of land, then that is available at any given time? Well, it is:\n",
    "\n",
    "$$\n",
    "X_{at} = X - X_{dt}\n",
    "$$\n",
    "\n",
    "So the more land is depleted, the less there is available for conversion/squatting/exploitation via the commons."
   ]
  },
  {
   "cell_type": "markdown",
   "id": "056a0014-814d-4559-900e-0c6bd1a149ad",
   "metadata": {},
   "source": [
    "So, we might consider now the following setup in any given period:\n",
    "\n",
    "1) agents decide between working and claiming land, and\n",
    "2) work effort is allocated across the common sector and the formal sector, as in accordance with our static model,\n",
    "3) depletion occurs as described.\n",
    "\n",
    "In this simple model, there is no maintenance of land rights over time - that comes later - so we have something like (using our more complicated land acquisition function):\n",
    "\n",
    "$$\n",
    "x_{et} = \\frac{g_t}{n_t \\bar g_t}\\frac{n_t \\bar g_t X_{at}}{n \\bar g_t+X_{at}} \n",
    "$$\n",
    "\n",
    "As the share of land claimed at any given time. "
   ]
  },
  {
   "cell_type": "markdown",
   "id": "cde20e31-550b-4869-baf4-5698b7bfa974",
   "metadata": {},
   "source": [
    "There is a marginal product condition governing allocation of effort between delineating ownership over land and the wage-rental ratio:\n",
    "\n",
    "$$\n",
    "f'(g_t,\\cdot )=\\frac{w_t}{r_t}\n",
    "$$\n",
    "\n",
    "This is a simple static problem that we can solve given our parametric model:"
   ]
  },
  {
   "cell_type": "markdown",
   "id": "cd313236-f3e8-4bba-9966-2729b4b73316",
   "metadata": {},
   "source": [
    "If we look at this scientifically, we can compute the critical $\\frac{w_t}{r_t}$ ratio as follows:\n",
    "\n",
    "$$\n",
    "\\frac{w_t}{r_t}=\\frac{1-\\alpha}{\\alpha}\\frac{X_{ft}+\\left(\\tfrac{A_{ct}}{(1-\\alpha)A_{ft}}\\right)^\\frac{1}{\\alpha}X_{ct}}{n_tl_t}\n",
    "$$\n",
    "\n",
    "Or, if one prefers:\n",
    "\n",
    "$$\n",
    "\\frac{w_t}{r_t}=\\frac{1-\\alpha}{\\alpha}\\frac{[(1-\\alpha)A_{ft}]^\\frac{1}{\\alpha}X_{ft}+A_{ct}^\\frac{1}{\\alpha}X_{ct}}{[(1-\\alpha)A_{ft}]^\\frac{1}{\\alpha}n_tl_t}\n",
    "$$"
   ]
  },
  {
   "cell_type": "markdown",
   "id": "eaf685b4-2fc5-4135-9092-4c182aa93ab8",
   "metadata": {},
   "source": [
    "Substituting in the land acquisition function from the equilibrium condition gives:\n",
    "\n",
    "$$\n",
    "\\frac{ X_{at}}{n \\bar g_t+X_{at}}=\\frac{1-\\alpha}{\\alpha}\\frac{X_{ft}+\\left(\\tfrac{A_{ct}}{(1-\\alpha)A_{ft}}\\right)^\\frac{1}{\\alpha}X_{ct}}{n_tl_t}\n",
    "$$"
   ]
  },
  {
   "cell_type": "markdown",
   "id": "e83a435f-717a-483e-a233-37e25e425cb1",
   "metadata": {},
   "source": [
    "But now, we have the following as well:\n",
    "\n",
    "$$\n",
    "X_{ft} = \\frac{n_t \\bar g_t X_{at}}{n \\bar g_t+X_{at}} ,\\quad X_{ct} = X_{at} - \\frac{n_t \\bar g_t X_{at}}{n \\bar g_t+X_{at}}=\\frac{X_{at}^2}{n \\bar g_t+X_{at}}\n",
    "$$"
   ]
  },
  {
   "cell_type": "markdown",
   "id": "c305476a-7582-48ff-b888-e2617c6dac50",
   "metadata": {},
   "source": [
    "Plugging this into the above gives:\n",
    "\n",
    "$$\n",
    "\\frac{ X_{at}}{n \\bar g_t+X_{at}}=\\frac{1-\\alpha}{\\alpha}\\frac{\\frac{n_t \\bar g_t X_{at}}{n \\bar g_t+X_{at}}+\\left(\\tfrac{A_{ct}}{(1-\\alpha)A_{ft}}\\right)^\\frac{1}{\\alpha}\\frac{X_{at}^2}{n \\bar g_t+X_{at}}}{n_tl_t}\n",
    "$$"
   ]
  },
  {
   "cell_type": "markdown",
   "id": "eca1d985-5db6-4b19-a248-f3726b385218",
   "metadata": {},
   "source": [
    "Let's cancel some terms. We have the following:\n",
    "\n",
    "$$\n",
    "\\frac{\\alpha}{1-\\alpha}=\\frac{n_t \\bar g_t+\\left(\\tfrac{A_{ct}}{(1-\\alpha)A_{ft}}\\right)^\\frac{1}{\\alpha}X_{at}}{n_tl_t}\n",
    "$$"
   ]
  },
  {
   "cell_type": "markdown",
   "id": "f2c9b716-2a7c-4eb6-a9c7-46526cc9f1fd",
   "metadata": {},
   "source": [
    "If we use the adding up constraint $g_t+l_t=1$, we find that:\n",
    "\n",
    "$$\n",
    "g_t = \\alpha - (1-\\alpha)\\left(\\tfrac{A_{ct}}{(1-\\alpha)A_{ft}}\\right)^\\frac{1}{\\alpha}\\frac{X_{at}}{n_t}\n",
    "$$"
   ]
  },
  {
   "cell_type": "markdown",
   "id": "208ee055-d01d-47a0-8c39-3c7d3a859c1d",
   "metadata": {},
   "source": [
    "Or, if one prefers:\n",
    "\n",
    "$$\n",
    "g_t = \\frac{\\alpha [(1-\\alpha)A_{ft}]^\\frac{1}{\\alpha}n_t - (1-\\alpha)A_{ct}^\\frac{1}{\\alpha}X_{at}}{[(1-\\alpha)A_{ft}]^\\frac{1}{\\alpha}n_t}\n",
    "$$"
   ]
  },
  {
   "cell_type": "markdown",
   "id": "49949590-7629-4d4a-953b-eede1eb1d081",
   "metadata": {},
   "source": [
    "Note how this also gives us (surperfluous $\\alpha$ on the top?):\n",
    "\n",
    "$$\n",
    "l_t =  (1-\\alpha)\\frac{ [(1-\\alpha)A_{ft}]^\\frac{1}{\\alpha}n_t + A_{ct}^\\frac{1}{\\alpha}X_{at}}{[(1-\\alpha)A_{ft}]^\\frac{1}{\\alpha}n_t}\n",
    "$$"
   ]
  },
  {
   "cell_type": "markdown",
   "id": "817d5991-26eb-4fe5-84fa-dea31dae1d0e",
   "metadata": {},
   "source": [
    "You can't quite see $l_t$ going to unity, however, in this formulation. But what about equilibrium land allotments to its two conflicting uses? We have:\n",
    "\n",
    "$$\n",
    "X_{ft} = \\frac{n_tg_tX_{at}}{n_tg_t + X_{at}}\n",
    "$$"
   ]
  },
  {
   "cell_type": "markdown",
   "id": "98ebae69-4e2f-4a22-81dd-3bf3e0fcbdc9",
   "metadata": {},
   "source": [
    "## Simplified acquisition functions\n",
    "\n",
    "Let's see if we can make some headway by automating this:"
   ]
  },
  {
   "cell_type": "markdown",
   "id": "4f0ece2d-90b4-4d84-91a4-bced18ca8048",
   "metadata": {},
   "source": [
    "If we plug in the definition of $g_{t}$, we get:\n",
    "\n",
    "$$\n",
    "X_{ft} = \\frac{n_t\\left(\\frac{\\alpha [(1-\\alpha)A_{ft}]^\\frac{1}{\\alpha}n_t - (1-\\alpha)A_{ct}^\\frac{1}{\\alpha}X_{at}}{[(1-\\alpha)A_{ft}]^\\frac{1}{\\alpha}n_t}\\right)X_{at}}{n_t\\left(\\frac{\\alpha [(1-\\alpha)A_{ft}]^\\frac{1}{\\alpha}n_t - (1-\\alpha)A_{ct}^\\frac{1}{\\alpha}X_{at}}{[(1-\\alpha)A_{ft}]^\\frac{1}{\\alpha}n_t}\\right) + X_{at}}\n",
    "$$"
   ]
  },
  {
   "cell_type": "markdown",
   "id": "9b144c39-310f-42a3-9b35-865f20797a39",
   "metadata": {},
   "source": [
    "Cancel out the terms \n",
    "\n",
    "$$\n",
    "X_{ft} = \\frac{\\left(\\frac{\\alpha [(1-\\alpha)A_{ft}]^\\frac{1}{\\alpha}n_t - (1-\\alpha)A_{ct}^\\frac{1}{\\alpha}X_{at}}{[(1-\\alpha)A_{ft}]^\\frac{1}{\\alpha}}\\right)X_{at}}{\\left(\\frac{\\alpha [(1-\\alpha)A_{ft}]^\\frac{1}{\\alpha}n_t - (1-\\alpha)A_{ct}^\\frac{1}{\\alpha}X_{at}}{[(1-\\alpha)A_{ft}]^\\frac{1}{\\alpha}}\\right) + X_{at}}\n",
    "$$"
   ]
  },
  {
   "cell_type": "markdown",
   "id": "19c8963d-e8c1-4bb9-93cd-7c4945707c1a",
   "metadata": {},
   "source": [
    "Which actually becomes:\n",
    "\n",
    "$$\n",
    "X_{ft} = \\frac{\\left(\\alpha [(1-\\alpha)A_{ft}]^\\frac{1}{\\alpha}n_t - (1-\\alpha)A_{ct}^\\frac{1}{\\alpha}X_{at}\\right)X_{at}}{\\left(\\alpha [(1-\\alpha)A_{ft}]^\\frac{1}{\\alpha}n_t - (1-\\alpha)A_{ct}^\\frac{1}{\\alpha}X_{at}\\right) + [(1-\\alpha)A_{ft}]^\\frac{1}{\\alpha} X_{at}}\n",
    "$$\n",
    "\n",
    "and we also have:\n",
    "\n",
    "$$\n",
    "X_{ct}=X_{at}-X_{ft}=\\frac{[(1-\\alpha)A_{ft}]^\\frac{1}{\\alpha} X^2_{at}}{\\left(\\alpha [(1-\\alpha)A_{ft}]^\\frac{1}{\\alpha}n_t - (1-\\alpha)A_{ct}^\\frac{1}{\\alpha}X_{at}\\right) + [(1-\\alpha)A_{ft}]^\\frac{1}{\\alpha} X_{at}}\n",
    "$$"
   ]
  },
  {
   "cell_type": "markdown",
   "id": "1aae210d-4002-45c5-bd89-ba9c100f7feb",
   "metadata": {},
   "source": [
    "But before we get any further, let's use some compute algebra, and simplify a few of the terms. For one, let's use the term:\n",
    "\n",
    "$$\n",
    "\\gamma_f = [(1-\\alpha)A_{ft}]^\\frac{1}{\\alpha}, \\quad \\gamma_c = A_{ct}^\\frac{1}{\\alpha}\n",
    "$$"
   ]
  },
  {
   "cell_type": "markdown",
   "id": "3d577b47-99a8-429e-aa35-f426c61178ef",
   "metadata": {},
   "source": [
    "Then, our equilibrium condition becomes:"
   ]
  },
  {
   "cell_type": "code",
   "execution_count": 39,
   "id": "f8a9c235-be9b-4b20-9d2e-8ed695030dd1",
   "metadata": {},
   "outputs": [],
   "source": [
    "import numpy as np\n",
    "import pandas as pd\n",
    "import matplotlib.pyplot as plt\n",
    "\n",
    "from sympy import *\n",
    "\n",
    "alpha, n, l, gamf, gamc = symbols('alpha n l gamma_f gamma_c')\n",
    "Xa, g = symbols('X_a g')\n",
    "Xf, Xc, X = symbols('X_f X_c X')"
   ]
  },
  {
   "cell_type": "code",
   "execution_count": 2,
   "id": "d9900c28-e4d5-4972-9d9a-11979cd97928",
   "metadata": {},
   "outputs": [
    {
     "data": {
      "text/latex": [
       "$\\displaystyle \\frac{X_{a}}{X_{a} + g n} - \\frac{\\left(1 - \\alpha\\right) \\left(X_{c} \\gamma_{c} + X_{f} \\gamma_{f}\\right)}{\\alpha \\gamma_{f} l n}$"
      ],
      "text/plain": [
       "X_a/(X_a + g*n) - (1 - alpha)*(X_c*gamma_c + X_f*gamma_f)/(alpha*gamma_f*l*n)"
      ]
     },
     "execution_count": 2,
     "metadata": {},
     "output_type": "execute_result"
    }
   ],
   "source": [
    "eqcond = Xa/(n*g + Xa) - (1-alpha)/alpha * (gamf*Xf + gamc*Xc) / (gamf*n*l)\n",
    "eqcond"
   ]
  },
  {
   "cell_type": "code",
   "execution_count": 3,
   "id": "d054264a-dcf7-4059-97be-80c6c2cfd953",
   "metadata": {},
   "outputs": [
    {
     "data": {
      "text/latex": [
       "$\\displaystyle \\frac{X_{a}}{X_{a} + g n} - \\frac{\\left(1 - \\alpha\\right) \\left(\\frac{X_{a} g \\gamma_{f} n}{X_{a} + g n} + \\gamma_{c} \\left(- \\frac{X_{a} g n}{X_{a} + g n} + X_{a}\\right)\\right)}{\\alpha \\gamma_{f} n \\left(1 - g\\right)}$"
      ],
      "text/plain": [
       "X_a/(X_a + g*n) - (1 - alpha)*(X_a*g*gamma_f*n/(X_a + g*n) + gamma_c*(-X_a*g*n/(X_a + g*n) + X_a))/(alpha*gamma_f*n*(1 - g))"
      ]
     },
     "execution_count": 3,
     "metadata": {},
     "output_type": "execute_result"
    }
   ],
   "source": [
    "eqcond2 = eqcond.subs({l:1-g, Xf:n*g*Xa/(n*g+Xa), Xc:Xa-n*g*Xa/(n*g+Xa)})\n",
    "eqcond2"
   ]
  },
  {
   "cell_type": "code",
   "execution_count": 4,
   "id": "44d5b595-a323-4b5e-81a8-a29a34d061d4",
   "metadata": {},
   "outputs": [
    {
     "data": {
      "text/latex": [
       "$\\displaystyle \\frac{X_{a} \\alpha \\gamma_{c} - X_{a} \\gamma_{c} + \\alpha \\gamma_{f} n}{\\gamma_{f} n}$"
      ],
      "text/plain": [
       "(X_a*alpha*gamma_c - X_a*gamma_c + alpha*gamma_f*n)/(gamma_f*n)"
      ]
     },
     "execution_count": 4,
     "metadata": {},
     "output_type": "execute_result"
    }
   ],
   "source": [
    "gsta = solve(eqcond2, g)[0]\n",
    "gsta"
   ]
  },
  {
   "cell_type": "markdown",
   "id": "fcbcdda5-cf89-4c68-8e5b-ac6e88456047",
   "metadata": {},
   "source": [
    "## Observation\n",
    "\n",
    "One observation is that once we know this, we really can compute everything else. Anyways, here are the closed forms:"
   ]
  },
  {
   "cell_type": "markdown",
   "id": "6551f8ac-86f4-4cb8-aa2c-df5e33bb7b8e",
   "metadata": {},
   "source": [
    "Which is what we had before. We also have:"
   ]
  },
  {
   "cell_type": "code",
   "execution_count": 5,
   "id": "e9c20118-2687-476c-969a-9643a050f8a2",
   "metadata": {},
   "outputs": [
    {
     "data": {
      "text/latex": [
       "$\\displaystyle - \\frac{\\left(\\alpha - 1\\right) \\left(X_{a} \\gamma_{c} + \\gamma_{f} n\\right)}{\\gamma_{f} n}$"
      ],
      "text/plain": [
       "-(alpha - 1)*(X_a*gamma_c + gamma_f*n)/(gamma_f*n)"
      ]
     },
     "execution_count": 5,
     "metadata": {},
     "output_type": "execute_result"
    }
   ],
   "source": [
    "lsta = (1-gsta).factor()\n",
    "lsta"
   ]
  },
  {
   "cell_type": "markdown",
   "id": "9a0efd1f-dc69-4956-bb51-9e684c177308",
   "metadata": {},
   "source": [
    "What about our equilibrium allocations of land to each of its uses? Well, we have:"
   ]
  },
  {
   "cell_type": "code",
   "execution_count": 6,
   "id": "557df39c-710f-4179-8ed6-cc1d16329f13",
   "metadata": {},
   "outputs": [
    {
     "data": {
      "text/latex": [
       "$\\displaystyle \\frac{X_{a} \\left(X_{a} \\alpha \\gamma_{c} - X_{a} \\gamma_{c} + \\alpha \\gamma_{f} n\\right)}{X_{a} \\alpha \\gamma_{c} - X_{a} \\gamma_{c} + X_{a} \\gamma_{f} + \\alpha \\gamma_{f} n}$"
      ],
      "text/plain": [
       "X_a*(X_a*alpha*gamma_c - X_a*gamma_c + alpha*gamma_f*n)/(X_a*alpha*gamma_c - X_a*gamma_c + X_a*gamma_f + alpha*gamma_f*n)"
      ]
     },
     "execution_count": 6,
     "metadata": {},
     "output_type": "execute_result"
    }
   ],
   "source": [
    "Xfeq = (n*gsta*Xa/(n*gsta + Xa)).simplify()\n",
    "Xfeq"
   ]
  },
  {
   "cell_type": "code",
   "execution_count": 7,
   "id": "4392b34f-0f75-4eb3-907d-36b093fdec4a",
   "metadata": {},
   "outputs": [
    {
     "data": {
      "text/latex": [
       "$\\displaystyle \\frac{X_{a}^{2} \\gamma_{f}}{X_{a} \\left(\\alpha \\gamma_{c} - \\gamma_{c} + \\gamma_{f}\\right) + \\alpha \\gamma_{f} n}$"
      ],
      "text/plain": [
       "X_a**2*gamma_f/(X_a*(alpha*gamma_c - gamma_c + gamma_f) + alpha*gamma_f*n)"
      ]
     },
     "execution_count": 7,
     "metadata": {},
     "output_type": "execute_result"
    }
   ],
   "source": [
    "Xceq = (Xa - n*gsta*Xa/(n*gsta + Xa)).simplify()\n",
    "Xceq.collect(Xa)"
   ]
  },
  {
   "cell_type": "markdown",
   "id": "c56bab91-0d31-4817-b7c5-3412c48934bd",
   "metadata": {},
   "source": [
    "We note that both of these can be simplified a little bit without too much trouble. What else do we want to know about all of this? What about equilbrium usage rates? We basically take labor alloted to each use, and then divide labor allotments by these amounts. What happens? Recall that the labor allotment decisions are given by the following:\n",
    "\n",
    "### Equilibrium allocations\n",
    "\n",
    "Note that these also apply in per-unit terms; that is, we expect that each agent will allocate his or her working labor on this basis as well:\n",
    "\n",
    "$$\n",
    "l_{ft}^* = \\frac{[(1-\\alpha)A_{ft}]^\\frac{1}{\\alpha}X_{ft}}{[(1-\\alpha)A_{ft}]^\\frac{1}{\\alpha}X_{ft} + A_{ct}^\\frac{1}{\\alpha}X_{ct}} l\n",
    "$$\n",
    "\n",
    "and\n",
    "\n",
    "$$\n",
    "l_{ct}^* = \\frac{A_{ct}^\\frac{1}{\\alpha}X_{ct}}{[(1-\\alpha)A_{ft}]^\\frac{1}{\\alpha}X_{ft} + A_{ct}^\\frac{1}{\\alpha}X_{ct}} l\n",
    "$$\n",
    "\n",
    "With \n",
    "\n",
    "$$\n",
    "l_t =  (1-\\alpha)\\frac{ [(1-\\alpha)A_{ft}]^\\frac{1}{\\alpha}n_t + A_{ct}^\\frac{1}{\\alpha}X_{at}}{[(1-\\alpha)A_{ft}]^\\frac{1}{\\alpha}n_t}\n",
    "$$\n",
    "\n",
    "To combine all of these terms to get them all in terms of exogenous or predetermined variables, we really just want to replace the $X_{ft}$ and $X_{ct}$ terms, which is easier using computer algebra."
   ]
  },
  {
   "cell_type": "code",
   "execution_count": 8,
   "id": "c8975501-d72c-4694-95f4-6e6c2cbcd3de",
   "metadata": {},
   "outputs": [
    {
     "data": {
      "text/latex": [
       "$\\displaystyle - \\frac{\\left(\\alpha - 1\\right) \\left(X_{a} \\alpha \\gamma_{c} - X_{a} \\gamma_{c} + \\alpha \\gamma_{f} n\\right)}{\\alpha \\gamma_{f} n}$"
      ],
      "text/plain": [
       "-(alpha - 1)*(X_a*alpha*gamma_c - X_a*gamma_c + alpha*gamma_f*n)/(alpha*gamma_f*n)"
      ]
     },
     "execution_count": 8,
     "metadata": {},
     "output_type": "execute_result"
    }
   ],
   "source": [
    "lfsta = gamf*Xfeq*lsta/(gamf*Xfeq+gamc*Xceq)\n",
    "lfsta_rf = lfsta.factor()\n",
    "lfsta_rf"
   ]
  },
  {
   "cell_type": "code",
   "execution_count": 9,
   "id": "e97ab3d4-458b-4e89-a3d7-0b8e9645a871",
   "metadata": {},
   "outputs": [
    {
     "data": {
      "text/latex": [
       "$\\displaystyle - \\frac{X_{a} \\gamma_{c} \\left(\\alpha - 1\\right)}{\\alpha \\gamma_{f} n}$"
      ],
      "text/plain": [
       "-X_a*gamma_c*(alpha - 1)/(alpha*gamma_f*n)"
      ]
     },
     "execution_count": 9,
     "metadata": {},
     "output_type": "execute_result"
    }
   ],
   "source": [
    "lcsta = gamc*Xceq*lsta/(gamf*Xfeq + gamc*Xceq)\n",
    "lcsta_rf = lcsta.factor()\n",
    "lcsta_rf"
   ]
  },
  {
   "cell_type": "markdown",
   "id": "3d33d434-c52f-4490-9916-7c9926648a46",
   "metadata": {},
   "source": [
    "The above are reduced-form expressions for our two land uses, from which we can compute $l_t^*$ - total labor allocated. Let's see what we get for total labor allocated to production (and hope it agrees with what we had before):"
   ]
  },
  {
   "cell_type": "code",
   "execution_count": 10,
   "id": "f9020265-e3a8-4621-bc75-9c0ddbaec7ab",
   "metadata": {},
   "outputs": [
    {
     "data": {
      "text/latex": [
       "$\\displaystyle - \\frac{\\left(\\alpha - 1\\right) \\left(X_{a} \\gamma_{c} + \\gamma_{f} n\\right)}{\\gamma_{f} n}$"
      ],
      "text/plain": [
       "-(alpha - 1)*(X_a*gamma_c + gamma_f*n)/(gamma_f*n)"
      ]
     },
     "execution_count": 10,
     "metadata": {},
     "output_type": "execute_result"
    }
   ],
   "source": [
    "l_rf = lcsta_rf + lfsta_rf\n",
    "l_rf.simplify()"
   ]
  },
  {
   "cell_type": "markdown",
   "id": "c4820d39-18a9-47e4-af00-2c47e0c64db5",
   "metadata": {},
   "source": [
    "### Use Intensities"
   ]
  },
  {
   "cell_type": "markdown",
   "id": "9202a935-0444-461e-8c3a-a581bdc06ad1",
   "metadata": {},
   "source": [
    "Those are looking pretty good. Now, we have our use intensities that look like the following, which are obtained by multiplying out everything, so we have:"
   ]
  },
  {
   "cell_type": "code",
   "execution_count": 11,
   "id": "6a6222e2-16fe-4841-a8b5-ed3fa93073af",
   "metadata": {},
   "outputs": [
    {
     "data": {
      "text/latex": [
       "$\\displaystyle - \\frac{\\left(\\alpha - 1\\right) \\left(X_{a} \\alpha \\gamma_{c} - X_{a} \\gamma_{c} + X_{a} \\gamma_{f} + \\alpha \\gamma_{f} n\\right)}{X_{a} \\alpha \\gamma_{f}}$"
      ],
      "text/plain": [
       "-(alpha - 1)*(X_a*alpha*gamma_c - X_a*gamma_c + X_a*gamma_f + alpha*gamma_f*n)/(X_a*alpha*gamma_f)"
      ]
     },
     "execution_count": 11,
     "metadata": {},
     "output_type": "execute_result"
    }
   ],
   "source": [
    "ufsta = lfsta_rf*n/Xfeq\n",
    "ufsta"
   ]
  },
  {
   "cell_type": "code",
   "execution_count": 12,
   "id": "0cc57725-eb35-40cb-93f1-5d0b1ea5a1a6",
   "metadata": {},
   "outputs": [],
   "source": [
    "ucsta = lcsta_rf*n/Xceq"
   ]
  },
  {
   "cell_type": "code",
   "execution_count": 13,
   "id": "3c4d4964-8ef5-42ef-96b6-762d542ed695",
   "metadata": {},
   "outputs": [
    {
     "data": {
      "text/latex": [
       "$\\displaystyle - \\frac{\\gamma_{c} \\left(\\alpha - 1\\right) \\left(X_{a} \\alpha \\gamma_{c} - X_{a} \\gamma_{c} + X_{a} \\gamma_{f} + \\alpha \\gamma_{f} n\\right)}{X_{a} \\alpha \\gamma_{f}^{2}}$"
      ],
      "text/plain": [
       "-gamma_c*(alpha - 1)*(X_a*alpha*gamma_c - X_a*gamma_c + X_a*gamma_f + alpha*gamma_f*n)/(X_a*alpha*gamma_f**2)"
      ]
     },
     "execution_count": 13,
     "metadata": {},
     "output_type": "execute_result"
    }
   ],
   "source": [
    "ucsta.factor()"
   ]
  },
  {
   "cell_type": "code",
   "execution_count": 14,
   "id": "bb825f21-2705-4616-8bf7-e302434a7521",
   "metadata": {},
   "outputs": [
    {
     "data": {
      "text/latex": [
       "$\\displaystyle \\frac{\\left(1 - \\alpha\\right) \\left(\\frac{- \\gamma_{c} \\left(1 - \\alpha\\right) + \\gamma_{f}}{\\gamma_{f}} + \\frac{\\alpha n}{X_{a}}\\right)}{\\alpha}$"
      ],
      "text/plain": [
       "(1 - alpha)*((-gamma_c*(1 - alpha) + gamma_f)/gamma_f + alpha*n/X_a)/alpha"
      ]
     },
     "execution_count": 14,
     "metadata": {},
     "output_type": "execute_result"
    }
   ],
   "source": [
    "ufsta_guess = (1-alpha)/alpha*((gamf - (1-alpha)*gamc)/gamf + alpha*n/Xa)\n",
    "ufsta_guess"
   ]
  },
  {
   "cell_type": "code",
   "execution_count": 15,
   "id": "cc8ffed7-1eec-4f0e-a15b-06acc0537f95",
   "metadata": {},
   "outputs": [
    {
     "data": {
      "text/latex": [
       "$\\displaystyle 0$"
      ],
      "text/plain": [
       "0"
      ]
     },
     "execution_count": 15,
     "metadata": {},
     "output_type": "execute_result"
    }
   ],
   "source": [
    "simplify(ufsta_guess - ufsta)"
   ]
  },
  {
   "cell_type": "markdown",
   "id": "d98734e7-566b-40de-8bc3-638207bc361c",
   "metadata": {},
   "source": [
    "So, it seems I have done it correctly and we can write:\n",
    "\n",
    "$$\n",
    "u_{ft} = \\frac{1-\\alpha}{\\alpha}\\left[\\frac{\\gamma_{ft} - (1-\\alpha)\\gamma_{ct}}{\\gamma_{ft}}+\\frac{\\alpha n_t}{X_{at}}\\right]\n",
    "$$"
   ]
  },
  {
   "cell_type": "markdown",
   "id": "e74bd10e-9f30-4660-b4d3-8a40909a1e5d",
   "metadata": {},
   "source": [
    "and at the same time, we have:\n",
    "\n",
    "$$\n",
    "u_{ct} = \\frac{1-\\alpha}{\\alpha}\\frac{\\gamma_c}{\\gamma_f}\\left[\\frac{\\gamma_f-(1-\\alpha)\\gamma_{ct}}{\\gamma_{ft}}+\\frac{\\alpha n_t}{X_{at}}\\right]\n",
    "$$"
   ]
  },
  {
   "cell_type": "markdown",
   "id": "40826c45-f5ed-428f-9c03-f575d4c605ac",
   "metadata": {},
   "source": [
    "Note how the relative use intensities depend only on the two usage parameters, which is something we could probably leverage in the sequel. "
   ]
  },
  {
   "cell_type": "markdown",
   "id": "8105ad75-0ccf-485d-9740-b64687803dc5",
   "metadata": {},
   "source": [
    "But now, let's substitute everything in as we had before. Since:\n",
    "\n",
    "$$\n",
    "\\gamma_{ft} = \\left[(1-\\alpha)A_{ft}\\right]^\\frac{1}{\\alpha}, \\quad \\gamma_{ct} = A_{ct}^\\frac{1}{\\alpha}\n",
    "$$\n",
    "\n",
    "we have\n",
    "\n",
    "$$\n",
    "u_{ft} = \\frac{1-\\alpha}{\\alpha}\\left[\\frac{ \\left[(1-\\alpha)A_{ft}\\right]^\\frac{1}{\\alpha} - (1-\\alpha)A_{ct}^\\frac{1}{\\alpha}}{ \\left[(1-\\alpha)A_{ft}\\right]^\\frac{1}{\\alpha}}+\\frac{\\alpha n_t}{X_{at}}\\right]\n",
    "$$\n",
    "\n",
    "and\n",
    "\n",
    "$$\n",
    "u_{ct} = \\frac{1-\\alpha}{\\alpha}\\frac{A_{ct}^\\frac{1}{\\alpha}}{\\left[(1-\\alpha)A_{ft}\\right]^\\frac{1}{\\alpha}}\\left[\\frac{ \\left[(1-\\alpha)A_{ft}\\right]^\\frac{1}{\\alpha} - (1-\\alpha)A_{ct}^\\frac{1}{\\alpha}}{ \\left[(1-\\alpha)A_{ft}\\right]^\\frac{1}{\\alpha}}+\\frac{\\alpha n_t}{X_{at}}\\right]\n",
    "$$"
   ]
  },
  {
   "cell_type": "markdown",
   "id": "2486b646-6871-492e-8d1c-1b2d2790fbd7",
   "metadata": {},
   "source": [
    "Although, we note that we still have $g^*_t$ making a difference here:"
   ]
  },
  {
   "cell_type": "code",
   "execution_count": 16,
   "id": "61f66b01-9cac-46f6-8e03-bb8f97e2f0c5",
   "metadata": {},
   "outputs": [
    {
     "data": {
      "text/latex": [
       "$\\displaystyle \\frac{X_{a} \\alpha \\gamma_{c} - X_{a} \\gamma_{c} + \\alpha \\gamma_{f} n}{\\gamma_{f} n}$"
      ],
      "text/plain": [
       "(X_a*alpha*gamma_c - X_a*gamma_c + alpha*gamma_f*n)/(gamma_f*n)"
      ]
     },
     "execution_count": 16,
     "metadata": {},
     "output_type": "execute_result"
    }
   ],
   "source": [
    "gsta"
   ]
  },
  {
   "cell_type": "markdown",
   "id": "b910fe09-4bb8-4ad0-9bd3-a3020aebed59",
   "metadata": {},
   "source": [
    "Which is:\n",
    "\n",
    "$$\n",
    "g^*_t = \\alpha - (1-\\alpha)\\frac{A_{ct}^\\frac{1}{\\alpha}}{\\left[(1-\\alpha)A_{ft}\\right]^\\frac{1}{\\alpha}}\\frac{X_{at}}{n_t}\n",
    "$$"
   ]
  },
  {
   "cell_type": "markdown",
   "id": "297ac8ce-b775-475d-afe1-826b0530cea6",
   "metadata": {},
   "source": [
    "Note that basically, we could rearrange the two use intensities to show precisely how they depend on $g^*$. Let's give it a try:\n",
    "\n",
    "$$\n",
    "u_{ft} = \\frac{1-\\alpha}{\\alpha}\\frac{n_t}{X_{at}}\\left[\\frac{ \\left[(1-\\alpha)A_{ft}\\right]^\\frac{1}{\\alpha} - (1-\\alpha)A_{ct}^\\frac{1}{\\alpha}}{ \\left[(1-\\alpha)A_{ft}\\right]^\\frac{1}{\\alpha}}\\frac{ X_{at}}{n_t}+\\alpha\\right]\n",
    "$$"
   ]
  },
  {
   "cell_type": "markdown",
   "id": "661eaed5-bfc6-4a40-aa5a-08996c2d2c42",
   "metadata": {},
   "source": [
    "Now, we divide through so that we have:\n",
    "\n",
    "$$\n",
    "u_{ft} = \\frac{1-\\alpha}{\\alpha}\\frac{n_t}{X_{at}}\\left[\\left(1-(1-\\alpha)\\frac{ A_{ct}^\\frac{1}{\\alpha}}{ \\left[(1-\\alpha)A_{ft}\\right]^\\frac{1}{\\alpha}}\\right)\\frac{ X_{at}}{n_t}+\\alpha\\right]\n",
    "$$"
   ]
  },
  {
   "cell_type": "markdown",
   "id": "c2062794-c659-41f7-8187-7ef1d0e77779",
   "metadata": {},
   "source": [
    "Which looks to me like the use intensity can be written as:\n",
    "\n",
    "$$\n",
    "u_{ft} = \\frac{1-\\alpha}{\\alpha}\\frac{n_t}{X_{at}}\\left[\\frac{X_{at}}{n_t}+g^*_t\\right]\n",
    "$$"
   ]
  },
  {
   "cell_type": "markdown",
   "id": "d805fb58-c91c-473b-bc1a-6fe89b2bf5ae",
   "metadata": {},
   "source": [
    "Let's also take a minute and see what we can learn about the circumstances under which $g_t^*>0$. We see that it can be written as:\n",
    "\n",
    "$$\n",
    "\\frac{\\alpha}{1-\\alpha}> \\frac{A_{ct}^\\frac{1}{\\alpha}}{[(1-\\alpha)A_{ft}]^\\frac{1}{\\alpha}}\\frac{X_{at}}{n_{t}}\n",
    "$$\n",
    "\n"
   ]
  },
  {
   "cell_type": "markdown",
   "id": "d77704ae-6f55-4dd8-8d72-0739816fa7ee",
   "metadata": {},
   "source": [
    "But this probably makes more sense if we invert it:\n",
    "\n",
    "$$\n",
    "\\frac{n_t}{X_{at}}>\\frac{1-\\alpha}{\\alpha}\\frac{A_{ct}^\\frac{1}{\\alpha}}{[(1-\\alpha)A_{ft}]^\\frac{1}{\\alpha}}\n",
    "$$"
   ]
  },
  {
   "cell_type": "markdown",
   "id": "285e6034-6097-4dc0-9d8e-d172b8d58db1",
   "metadata": {},
   "source": [
    "Which is a population density related result. Anyways...\n",
    "\n",
    "## Description of the Economy\n",
    "\n",
    "We are now in a position to describe the dynamics of the economy in terms of land use, ownership of land, use intensity, and other things. But first, let's also think about aggregate income. Per capita income is:\n",
    "\n",
    "$$\n",
    "l_tw_t + r_t\\frac{g^*_t}{n_tg_t^*}\\frac{n_tg_t^*X_{at}}{n_tg_t^*+X_{at}}\n",
    "$$\n",
    "\n",
    "and we imagine that this is the key to driving Malthusian dynamics in this model. In our model, this depends on the land endowment that they acquire (which is simply enclosed land divided by the population), and also wage labor. Note that ultimately we imagine _exchange_ as a process that circumvents costly investment/conflict in allocating land, at the same time it generates incentives to not overuse land. "
   ]
  },
  {
   "cell_type": "markdown",
   "id": "beb59f46-fa52-4f17-9c3f-219f9424cc67",
   "metadata": {},
   "source": [
    "If we simplified this a bit, we would have:\n",
    "\n",
    "$$\n",
    "y_t=l_tw_t + r_t\\frac{X_{ft}}{n_t}\n",
    "$$\n",
    "\n",
    "because on the right, we have the share of owned land each individual gets. "
   ]
  },
  {
   "cell_type": "markdown",
   "id": "d2bf7433-7a30-40af-91fb-0ac6401c3960",
   "metadata": {},
   "source": [
    "But let's write these things in a more rational way, because we have solved everything using our arbitrage conditions. First, observe that:\n",
    "\n",
    "$$\n",
    "r_t = \\alpha A_{ft}\\left(\\frac{L_{ft}}{X_{ft}}\\right)^{1-\\alpha}\n",
    "$$\n",
    "\n",
    "But also, observe that arbitrage holds, so we can use whatever expression we want for the wage. Let's use the marginal product as:\n",
    "$$\n",
    "w_{ft} = (1-\\alpha)A_{ft}\\left(\\frac{X_{ft}}{L_{ft}}\\right)^\\alpha\n",
    "$$\n"
   ]
  },
  {
   "cell_type": "markdown",
   "id": "d27cb45f-ba5d-4413-ad5f-12957cab300b",
   "metadata": {},
   "source": [
    "Let's put these two together and get:\n",
    "\n",
    "$$\n",
    "l_t(1-\\alpha)A_{ft}\\left(\\frac{X_{ft}}{L_{ft}}\\right)^\\alpha + \\alpha A_{ft}\\left(\\frac{L_{ft}}{X_{ft}}\\right)^{1-\\alpha}\\frac{X_{ft}}{n_t}\n",
    "$$"
   ]
  },
  {
   "cell_type": "markdown",
   "id": "4a25dc1f-4825-4d4f-b859-4512d451e502",
   "metadata": {},
   "source": [
    "And let's factor this as follows:\n",
    "\n",
    "$$\n",
    "l_t(1-\\alpha)A_{ft}\\left(\\frac{X_{ft}}{L_{ft}}\\right)^\\alpha + \\alpha A_{ft}\\left(\\frac{X_{ft}}{L_{ft}}\\right)^{\\alpha-1}\\frac{X_{ft}}{n_t}\n",
    "$$\n",
    "\n",
    "Which can be further written as:\n",
    "\n",
    "$$\n",
    "A_{ft}\\left(\\frac{X_{ft}}{L_{ft}}\\right)^\\alpha\\left(l_t(1-\\alpha)+\\alpha\\frac{L_{ft}}{X_{ft}}\\frac{X_{ft}}{n_t}\\right)\n",
    "$$"
   ]
  },
  {
   "cell_type": "markdown",
   "id": "b58bad22-3839-4b88-8918-efc7629a5896",
   "metadata": {},
   "source": [
    "So, weirdly, it looks like we can make a cancellation to get this whole income expression as:\n",
    "\n",
    "$$\n",
    "y_t=A_{ft}\\left(\\frac{X_{ft}}{L_{ft}}\\right)^\\alpha\\left(l_t(1-\\alpha) + \\alpha l_{ft}\\right)\n",
    "$$\n",
    "\n",
    "As a first blush, note that we have:\n",
    "\n",
    "$$\n",
    "u_{ft} = \\frac{1-\\alpha}{\\alpha}\\left[\\frac{ \\left[(1-\\alpha)A_{ft}\\right]^\\frac{1}{\\alpha} - (1-\\alpha)A_{ct}^\\frac{1}{\\alpha}}{ \\left[(1-\\alpha)A_{ft}\\right]^\\frac{1}{\\alpha}}+\\frac{\\alpha n_t}{X_{at}}\\right]\n",
    "$$\n",
    "\n",
    "\n",
    "So we can write:\n",
    "\n",
    "$$\n",
    "y_t = A_{ft}u_{ft}^{-\\alpha}\\left(l_t(1-\\alpha) + \\alpha l_{ft}\\right)\n",
    "$$"
   ]
  },
  {
   "cell_type": "markdown",
   "id": "b3d4e923-f6eb-4471-891d-a23c98ec304a",
   "metadata": {},
   "source": [
    "So, let's try to get a nice, closed-form expression for the rest of the term. Above, we computed reduced-form labors, so we have:"
   ]
  },
  {
   "cell_type": "code",
   "execution_count": 17,
   "id": "2168316c-9c42-44dc-b812-dc897b7ccb1b",
   "metadata": {},
   "outputs": [
    {
     "data": {
      "text/latex": [
       "$\\displaystyle - \\frac{\\left(\\alpha - 1\\right) \\left(X_{a} \\gamma_{c} + \\gamma_{f} n\\right)}{\\gamma_{f} n}$"
      ],
      "text/plain": [
       "-(alpha - 1)*(X_a*gamma_c + gamma_f*n)/(gamma_f*n)"
      ]
     },
     "execution_count": 17,
     "metadata": {},
     "output_type": "execute_result"
    }
   ],
   "source": [
    "l_rf = l_rf.simplify()\n",
    "l_rf"
   ]
  },
  {
   "cell_type": "markdown",
   "id": "5edc13c4-dbc8-48d0-9abd-f0b1eb4485c7",
   "metadata": {},
   "source": [
    "And we also have:"
   ]
  },
  {
   "cell_type": "code",
   "execution_count": 18,
   "id": "15dc8802-c47a-43de-98d8-bb713a06bc67",
   "metadata": {},
   "outputs": [
    {
     "data": {
      "text/latex": [
       "$\\displaystyle - \\frac{\\left(\\alpha - 1\\right) \\left(X_{a} \\alpha \\gamma_{c} - X_{a} \\gamma_{c} + \\alpha \\gamma_{f} n\\right)}{\\alpha \\gamma_{f} n}$"
      ],
      "text/plain": [
       "-(alpha - 1)*(X_a*alpha*gamma_c - X_a*gamma_c + alpha*gamma_f*n)/(alpha*gamma_f*n)"
      ]
     },
     "execution_count": 18,
     "metadata": {},
     "output_type": "execute_result"
    }
   ],
   "source": [
    "lfsta_rf"
   ]
  },
  {
   "cell_type": "markdown",
   "id": "17c1239d-8563-479c-8d31-fca018fbc8ab",
   "metadata": {},
   "source": [
    "So, we can write:"
   ]
  },
  {
   "cell_type": "code",
   "execution_count": 19,
   "id": "d0254cc7-ec9f-4375-99f0-925e67a9e20e",
   "metadata": {},
   "outputs": [],
   "source": [
    "term_two = lfsta_rf*alpha + (1-alpha)*l_rf"
   ]
  },
  {
   "cell_type": "code",
   "execution_count": 20,
   "id": "ae407cb8-5516-4357-b90e-707bbc3d4f4c",
   "metadata": {},
   "outputs": [
    {
     "data": {
      "text/latex": [
       "$\\displaystyle 1 - \\alpha$"
      ],
      "text/plain": [
       "1 - alpha"
      ]
     },
     "execution_count": 20,
     "metadata": {},
     "output_type": "execute_result"
    }
   ],
   "source": [
    "term_two.simplify()"
   ]
  },
  {
   "cell_type": "markdown",
   "id": "e0652e18-9a19-49d3-b643-4d92d7080fea",
   "metadata": {},
   "source": [
    "Which makes doing the dynamics much easier. This seems to imply that we have something where output depends upon use intensity on enclosed land (or at least can be written as a function of it) only:\n",
    "\n",
    "$$\n",
    "y_t = A_{ft}u_{ft}^{-\\alpha}\\left(1-\\alpha\\right)\n",
    "$$\n",
    "\n",
    "I will mock this up here, and then shunt it off into a Python File. \n",
    "\n",
    "## Basics"
   ]
  },
  {
   "cell_type": "code",
   "execution_count": 21,
   "id": "1c51b9d9-c490-48af-ac62-05b793027ebf",
   "metadata": {},
   "outputs": [],
   "source": [
    "class StaticEconomy:\n",
    "\n",
    "    '''Takes in the base static parameters of the economy - population,\n",
    "       land endowment, productivities, and land intensity - and solves for labor\n",
    "       allocations, degree of ownership, use intensities, and incomes.'''\n",
    "    \n",
    "    def __init__(self, Xa, Xn, n, Af, Ac, alpha):\n",
    "\n",
    "        self.Xa    = Xa          # Useable land\n",
    "        self.n     = n\n",
    "        self.Af    = Af\n",
    "        self.Ac    = Ac\n",
    "        self.alpha = alpha\n",
    "        self.Xn    = Xn          # Unuseable land\n",
    "        self.X     = self.Xa + self.Xn # total land endowment\n",
    "\n",
    "        '''Some computed quantities that make things easier'''\n",
    "\n",
    "        self.gamf = ((1-self.alpha)*self.Af)**(1/self.alpha)\n",
    "        self.gamc = (self.Ac)**(1/self.alpha)\n",
    "\n",
    "        '''Flag for whether or not the economy has any private landownership'''\n",
    "\n",
    "        self.flag = ( self.n/self.Xa - (1-self.alpha)/self.alpha * self.gamc / self.gamf ) > 0\n",
    "\n",
    "        '''Allocations if there is no ownership'''\n",
    "\n",
    "        if self.flag == False:\n",
    "\n",
    "            self.l_eq  = 1\n",
    "            self.l_eqc = 1\n",
    "            self.l_eqf = 0\n",
    "            self.g_eq  = 0\n",
    "\n",
    "            self.Xc    = self.Xa\n",
    "            self.Xf    = 0\n",
    "\n",
    "            self.w_eq  = self.Ac * (self.Xc / (self.n * self.l_eq) )**(self.alpha)\n",
    "            self.r_eq  = 0\n",
    "            self.y_eq  = self.l_eq*self.w_eq #All income is \"wage\" income \n",
    "            self.u_eqc = self.n*self.l_eq / self.Xc\n",
    "            self.u_eqf = 0\n",
    "\n",
    "            self.erate = 0\n",
    "\n",
    "            '''Note that the above degenerate terms are set to zero for graphing purposes'''\n",
    "\n",
    "        else:\n",
    "\n",
    "            self.l_eq = (1 - self.alpha) * ( 1 + self.Xa / self.n * self.gamc / self.gamf )\n",
    "            self.g_eq = self.alpha - (1 - self.alpha) * self.gamc / self.gamf * self.Xa / self.n\n",
    "\n",
    "            self.Xf   = self.n * self.g_eq * self.Xa / (self.n * self.g_eq + self.Xa)\n",
    "            self.Xc   = self.Xa - self.Xf\n",
    "\n",
    "            self.l_eqc = self.Xc * self.gamc / ( self.Xf*self.gamf + self.Xc*self.gamc ) * self.l_eq\n",
    "            self.l_eqf = self.Xf * self.gamf / ( self.Xf*self.gamf + self.Xc*self.gamc ) * self.l_eq\n",
    "\n",
    "            self.u_eqc = self.n*self.l_eqc / self.Xc\n",
    "            self.u_eqf = self.n*self.l_eqf / self.Xf\n",
    "\n",
    "            self.erate = self.Xf / self.Xa\n",
    "\n",
    "            self.w_eq  = ((self.gamf*self.Xf + self.gamc*self.Xc) / (self.n*self.l_eq) )**alpha # closed form for checks\n",
    "            self.r_eq  = self.alpha/(1-self.alpha)*self.gamf*((self.gamf*self.Xf + self.gamc*self.Xc) / (self.n*self.l_eq) )**(self.alpha-1) \n",
    "            self.y_eq  = self.w_eq * self.l_eq + self.r_eq * self.Xf / self.n\n",
    "\n",
    "        self.dresult = {'l_eq':self.l_eq, 'g_eq':self.g_eq, 'Xf':self.Xf, 'Xc':self.Xc, \n",
    "                        'Xa':self.Xa, 'l_eqc':self.l_eqc, 'l_eqf':self.l_eqf, 'u_eqc':self.u_eqc,\n",
    "                        'u_eqf':self.u_eqf, 'erate':self.erate, 'w_eq':self.w_eq, 'r_eq':self.r_eq,\n",
    "                        'y_eq':self.y_eq, 'n':self.n}\n",
    "\n",
    "    '''We have basically calculated all these but could check them with closed form solutions'''\n",
    "\n",
    "    def report(self):\n",
    "        print(\"g:              \", self.g_eq)\n",
    "        print(\"l:              \", self.l_eq)\n",
    "        print(\"l_f:            \", self.l_eqf)\n",
    "        print(\"l_c:            \", self.l_eqc)\n",
    "        print(\"w:              \", self.w_eq)\n",
    "        print(\"r:              \", self.r_eq)\n",
    "        print(\"y:              \", self.y_eq)\n",
    "        print(\"enclosure rate: \", self.erate)"
   ]
  },
  {
   "cell_type": "code",
   "execution_count": 22,
   "id": "e30064a2-21c8-4368-84dc-3df0175595f1",
   "metadata": {},
   "outputs": [],
   "source": [
    "parms1 = {'Xa':1, 'Xn':0, 'n':2, 'Ac':1, 'Af':1, 'alpha':.5}\n",
    "parms2 = {'Xa':1, 'Xn':0, 'n':5, 'Ac':1, 'Af':1, 'alpha':.5}"
   ]
  },
  {
   "cell_type": "code",
   "execution_count": 23,
   "id": "d01b060f-7af3-4c9d-8081-d3346ea9f8b0",
   "metadata": {},
   "outputs": [],
   "source": [
    "E1 = StaticEconomy(**parms1)\n",
    "E2 = StaticEconomy(**parms2)"
   ]
  },
  {
   "cell_type": "code",
   "execution_count": 24,
   "id": "c60b8d88-7668-4ec1-9d82-28d204b29c3b",
   "metadata": {},
   "outputs": [
    {
     "name": "stdout",
     "output_type": "stream",
     "text": [
      "g:               0\n",
      "l:               1\n",
      "l_f:             0\n",
      "l_c:             1\n",
      "w:               0.7071067811865476\n",
      "r:               0\n",
      "y:               0.7071067811865476\n",
      "enclosure rate:  0\n"
     ]
    }
   ],
   "source": [
    "E1.report()"
   ]
  },
  {
   "cell_type": "code",
   "execution_count": 25,
   "id": "1f140022-5ab7-4e48-b2f4-6d7bed543393",
   "metadata": {},
   "outputs": [
    {
     "name": "stdout",
     "output_type": "stream",
     "text": [
      "g:               0.09999999999999998\n",
      "l:               0.9\n",
      "l_f:             0.09999999999999998\n",
      "l_c:             0.8\n",
      "w:               0.408248290463863\n",
      "r:               0.6123724356957946\n",
      "y:               0.408248290463863\n",
      "enclosure rate:  0.33333333333333326\n"
     ]
    }
   ],
   "source": [
    "E2.report()"
   ]
  },
  {
   "cell_type": "markdown",
   "id": "d6f662df-56d3-4281-bdd8-e58aeb553a91",
   "metadata": {},
   "source": [
    "## Malthusian Ownership Dynamics\n",
    "\n",
    "So, we can do this straight away..."
   ]
  },
  {
   "cell_type": "code",
   "execution_count": 26,
   "id": "4a17651f-cf97-496d-817f-0bd3e2ef0994",
   "metadata": {},
   "outputs": [],
   "source": [
    "init_vals = {'Xa':100, 'Xn':0, 'n':1, 'Ac':1, 'Af':1, 'alpha':.5}"
   ]
  },
  {
   "cell_type": "code",
   "execution_count": 27,
   "id": "7cc74bec-9770-4723-a62a-9615f4e06539",
   "metadata": {},
   "outputs": [],
   "source": [
    "Start_Economy = StaticEconomy(**init_vals)"
   ]
  },
  {
   "cell_type": "code",
   "execution_count": 28,
   "id": "85452ec3-7070-4831-b4b2-37bfa7e7fc9d",
   "metadata": {},
   "outputs": [
    {
     "name": "stdout",
     "output_type": "stream",
     "text": [
      "g:               0\n",
      "l:               1\n",
      "l_f:             0\n",
      "l_c:             1\n",
      "w:               10.0\n",
      "r:               0\n",
      "y:               10.0\n",
      "enclosure rate:  0\n"
     ]
    }
   ],
   "source": [
    "Start_Economy.report()"
   ]
  },
  {
   "cell_type": "code",
   "execution_count": 29,
   "id": "98ba3bc4-d1e1-4a55-a0ea-17576f2ffab6",
   "metadata": {},
   "outputs": [
    {
     "data": {
      "text/plain": [
       "10.0"
      ]
     },
     "execution_count": 29,
     "metadata": {},
     "output_type": "execute_result"
    }
   ],
   "source": [
    "Start_Economy.dresult['y_eq']"
   ]
  },
  {
   "cell_type": "markdown",
   "id": "672cbebb-6442-4dc8-9f96-1fce0913f7fe",
   "metadata": {},
   "source": [
    "One thing we can actually do is simulate out the populations and then go back and get all the values for each population...let's see how it goes. First, we have to envision how a Malthusian dynamic might work. Usually, we have some utility from consumption and some utility from having children. So, we might imagine that some constant fraction of income is spent (call it $\\phi$) on creating new children. Then, the number of children created is \n",
    "\n",
    "$$\n",
    "n_{t+1} = \\phi n_ty_t\n",
    "$$\n",
    "\n",
    "since everyone lives for one period only. "
   ]
  },
  {
   "cell_type": "code",
   "execution_count": 30,
   "id": "449cbafe-54dd-4feb-94af-ddf46cb323fb",
   "metadata": {},
   "outputs": [
    {
     "name": "stdout",
     "output_type": "stream",
     "text": [
      "...................."
     ]
    }
   ],
   "source": [
    "Economy = StaticEconomy(**init_vals)\n",
    "dict_of_dicts = {}\n",
    "dict_of_dicts[0] = Economy.dresult\n",
    "\n",
    "phi = 1\n",
    "\n",
    "for t in range(1, 21):\n",
    "    print('.', end='')\n",
    "    dta = phi*Economy.dresult['n']*Economy.dresult['y_eq']\n",
    "    newdict = init_vals.copy()\n",
    "    newdict['n'] = dta\n",
    "    Economy = StaticEconomy(**newdict)\n",
    "    dict_of_dicts[t] = Economy.dresult"
   ]
  },
  {
   "cell_type": "markdown",
   "id": "fc2e543a-ec00-44a0-a405-c3d3c758ebe4",
   "metadata": {},
   "source": [
    "Which is a fairly successful simulation, but we might want to think about dynamic ownership economies and how they work, and how they look analytically. Good stuff...at some point we want to collect all of this into serious code, but anyways..."
   ]
  },
  {
   "cell_type": "code",
   "execution_count": 31,
   "id": "94a7d2d0-e3aa-4b2e-84bf-59fe936bea81",
   "metadata": {},
   "outputs": [],
   "source": [
    "T     = []\n",
    "N     = []\n",
    "Y     = []\n",
    "U_eqc = []\n",
    "U_eqf = []\n",
    "\n",
    "time = 1\n",
    "for key in dict_of_dicts.keys():\n",
    "    N.append(dict_of_dicts[key]['n'])\n",
    "    Y.append(dict_of_dicts[key]['y_eq'])\n",
    "    U_eqc.append(dict_of_dicts[key]['u_eqc'])\n",
    "    U_eqf.append(dict_of_dicts[key]['u_eqf'])\n",
    "    T.append(time)\n",
    "    time = time + 1"
   ]
  },
  {
   "cell_type": "code",
   "execution_count": 32,
   "id": "007e2b00-7da8-45e4-8180-8e8d830d4fb0",
   "metadata": {},
   "outputs": [
    {
     "data": {
      "text/plain": [
       "<matplotlib.legend.Legend at 0x2b7475d5f10>"
      ]
     },
     "execution_count": 32,
     "metadata": {},
     "output_type": "execute_result"
    },
    {
     "data": {
      "image/png": "[encoded data removed]",
      "text/plain": [
       "<Figure size 800x500 with 2 Axes>"
      ]
     },
     "metadata": {},
     "output_type": "display_data"
    }
   ],
   "source": [
    "fig, ax1 = plt.subplots(figsize=(8, 5))\n",
    "\n",
    "ax1.plot(T, N, label='population')\n",
    "ax1.set_xlabel('Time')\n",
    "ax1.set_ylabel('Population')\n",
    "ax1.legend(loc=0)\n",
    "\n",
    "ax2 = ax1.twinx()\n",
    "ax2.plot(U_eqc, label='use int. commons', linestyle='dashed')\n",
    "ax2.plot(U_eqf, label='use int. formal', linestyle='dashed')\n",
    "ax2.plot(Y, label='per. cap. inc.', linestyle='dashed')\n",
    "ax2.set_ylabel('Per unit values')\n",
    "ax2.legend(loc=0)"
   ]
  },
  {
   "cell_type": "markdown",
   "id": "26187a68-5626-4b60-9d9b-cfc780674409",
   "metadata": {},
   "source": [
    "It is interesting to see what happens if we repeat the above exercise with some values that produce private ownership and a formalized sector. We have now a situation in which there are fixed technologies which produce a basic schism that works. "
   ]
  },
  {
   "cell_type": "code",
   "execution_count": 33,
   "id": "d43ed086-fb83-4803-b524-615f844b7578",
   "metadata": {},
   "outputs": [],
   "source": [
    "iv2 = {'Xa':100, 'Xn':0, 'n':37, 'Ac':1, 'Af':2.5, 'alpha':.5}\n",
    "iv3 = {'Xa':100, 'Xn':0, 'n':87, 'Ac':1, 'Af':2.5, 'alpha':.5}"
   ]
  },
  {
   "cell_type": "code",
   "execution_count": 34,
   "id": "5e6c60d5-53b4-4230-aba7-51ce4f9f1de1",
   "metadata": {},
   "outputs": [
    {
     "name": "stdout",
     "output_type": "stream",
     "text": [
      "g:               0\n",
      "l:               1\n",
      "l_f:             0\n",
      "l_c:             1\n",
      "w:               1.643989873053573\n",
      "r:               0\n",
      "y:               1.643989873053573\n",
      "enclosure rate:  0\n"
     ]
    }
   ],
   "source": [
    "E1 = StaticEconomy(**iv2)\n",
    "E1.report()"
   ]
  },
  {
   "cell_type": "code",
   "execution_count": 35,
   "id": "c6d53115-5dca-4e09-bb39-0ef954728bda",
   "metadata": {},
   "outputs": [
    {
     "name": "stdout",
     "output_type": "stream",
     "text": [
      "g:               0.13218390804597702\n",
      "l:               0.867816091954023\n",
      "l_f:             0.13218390804597704\n",
      "l_c:             0.735632183908046\n",
      "w:               1.183784309525946\n",
      "r:               1.3199195051214296\n",
      "y:               1.183784309525946\n",
      "enclosure rate:  0.1031390134529148\n"
     ]
    }
   ],
   "source": [
    "E2 = StaticEconomy(**iv3)\n",
    "E2.report()"
   ]
  },
  {
   "cell_type": "markdown",
   "id": "0edc9703-11da-410f-8c6b-7355661f6610",
   "metadata": {},
   "source": [
    "So, we note that the above economy has the characteristic that at some point, population hits a certain level at which ownership starts to change. This is with purely static technologies in each sector. Anyways, let's redo our dynamics here. "
   ]
  },
  {
   "cell_type": "code",
   "execution_count": 36,
   "id": "f89f6564-b9d1-4a25-9f12-a6aa0ef9e43b",
   "metadata": {},
   "outputs": [
    {
     "name": "stdout",
     "output_type": "stream",
     "text": [
      "...................."
     ]
    }
   ],
   "source": [
    "ivnew = {'Xa':100, 'Xn':0, 'n':10, 'Ac':1, 'Af':2.5, 'alpha':.5}\n",
    "\n",
    "Economy = StaticEconomy(**ivnew)\n",
    "dict_of_dicts = {}\n",
    "dict_of_dicts[0] = Economy.dresult\n",
    "\n",
    "phi = 1\n",
    "\n",
    "for t in range(1, 21):\n",
    "    print('.', end='')\n",
    "    dta = phi*Economy.dresult['n']*Economy.dresult['y_eq']\n",
    "    newdict = ivnew.copy()\n",
    "    newdict['n'] = dta\n",
    "    Economy = StaticEconomy(**newdict)\n",
    "    dict_of_dicts[t] = Economy.dresult"
   ]
  },
  {
   "cell_type": "code",
   "execution_count": 55,
   "id": "40a03fcc-1798-4b61-be48-fe410a2bb792",
   "metadata": {},
   "outputs": [
    {
     "data": {
      "text/plain": [
       "dict_keys(['l_eq', 'g_eq', 'Xf', 'Xc', 'Xa', 'l_eqc', 'l_eqf', 'u_eqc', 'u_eqf', 'erate', 'w_eq', 'r_eq', 'y_eq', 'n'])"
      ]
     },
     "execution_count": 55,
     "metadata": {},
     "output_type": "execute_result"
    }
   ],
   "source": [
    "dict_of_dicts[0].keys()"
   ]
  },
  {
   "cell_type": "code",
   "execution_count": 37,
   "id": "dac25fb3-0608-43f2-a734-cb12abb260ac",
   "metadata": {},
   "outputs": [],
   "source": [
    "T     = []\n",
    "N     = []\n",
    "Y     = []\n",
    "U_eqc = []\n",
    "U_eqf = []\n",
    "Xf    = []\n",
    "Xc    = []\n",
    "\n",
    "time = 1\n",
    "for key in dict_of_dicts.keys():\n",
    "    N.append(dict_of_dicts[key]['n'])\n",
    "    Y.append(dict_of_dicts[key]['y_eq'])\n",
    "    U_eqc.append(dict_of_dicts[key]['u_eqc'])\n",
    "    U_eqf.append(dict_of_dicts[key]['u_eqf'])\n",
    "    T.append(time)\n",
    "    Xf.append(dict_of_dicts[key]['Xf'])\n",
    "    Xc.append(dict_of_dicts[key]['Xc'])\n",
    "    time = time + 1\n",
    "\n",
    "fracf = [a/(a+b) for a, b in zip(Xf,Xc)]   # we should add this to the list of things reported"
   ]
  },
  {
   "cell_type": "code",
   "execution_count": 38,
   "id": "2b363a5a-a1d9-429d-bf61-1b4a45b846ec",
   "metadata": {},
   "outputs": [
    {
     "data": {
      "text/plain": [
       "<matplotlib.legend.Legend at 0x2b747b01890>"
      ]
     },
     "execution_count": 38,
     "metadata": {},
     "output_type": "execute_result"
    },
    {
     "data": {
      "image/png": "[encoded data removed]",
      "text/plain": [
       "<Figure size 800x500 with 2 Axes>"
      ]
     },
     "metadata": {},
     "output_type": "display_data"
    }
   ],
   "source": [
    "fig, ax1 = plt.subplots(figsize=(8, 5))\n",
    "\n",
    "ax1.plot(T, N, label='population')\n",
    "ax1.set_xlabel('Time')\n",
    "ax1.set_ylabel('Population')\n",
    "ax1.legend(loc=0)\n",
    "\n",
    "ax2 = ax1.twinx()\n",
    "ax2.plot(U_eqc, label='use int. commons', linestyle='dashed')\n",
    "ax2.plot(U_eqf, label='use int. formal', linestyle='dashed')\n",
    "ax2.plot(Y, label='per. cap. inc.', linestyle='dashed')\n",
    "ax2.plot(fracf, label='encl. fraction', linestyle='dashed')\n",
    "ax2.set_ylabel('Per unit values')\n",
    "ax2.legend(loc=0)"
   ]
  },
  {
   "cell_type": "markdown",
   "id": "17c22f19-c132-4997-bf9b-14c5adb08381",
   "metadata": {},
   "source": [
    "Or let's think up something that creates a Malthusian simulation of the data, and creates a method of displaying it. First, let's be a little bit more clear about how the malthusian dynamic works. So, every person generates income of $y_t(n_t)$, and we might imagine that this income generates children, and since everyone dies, we have:\n",
    "\n",
    "$$\n",
    "n_{t+1} = \\phi n_t y_t(n_t)\n",
    "$$\n",
    "\n",
    "So, our land ownership works only through the income channel. Clearly, the above has a steady-state at:\n",
    "\n",
    "$$\n",
    "y_t(n_t)\\phi=1\n",
    "$$\n",
    "So steady-state income goes to $\\frac{1}{\\phi}$. Fair enough..."
   ]
  },
  {
   "cell_type": "code",
   "execution_count": 142,
   "id": "310b6eac-517d-4be2-b054-a3d82e3af82e",
   "metadata": {},
   "outputs": [],
   "source": [
    "class StaticMalthusSim:\n",
    "\n",
    "    '''Just starts by invoking a static instance. Note that the \n",
    "       start values are a population of one, 20 generations, and\n",
    "       one unit required for subsistence'''\n",
    "    \n",
    "    def __init__(self, Xa, Xn, n, Af, Ac, alpha, phi=1, n0=1, t=20):\n",
    "\n",
    "        self.Instance = StaticEconomy(Xa, Xn, n, Af, Ac, alpha)\n",
    "        self.phi = phi\n",
    "        self.n0  = n0\n",
    "        self.t   = t\n",
    "        self.basedata = {'Xa':Xa, 'Xn':Xn, 'n':n, 'Af':Af, 'Ac':Ac, 'alpha':alpha}\n",
    "\n",
    "        self.dict_results = {}\n",
    "        self.dict_results[0] = self.Instance.dresult\n",
    "    \n",
    "        for t in range(1, t+1):\n",
    "            dta = self.phi*self.Instance.dresult['n']*self.Instance.dresult['y_eq']\n",
    "            newdict = self.basedata.copy()\n",
    "            newdict['n'] = dta\n",
    "            self.Instance = StaticEconomy(**newdict)\n",
    "            self.dict_results[t] = self.Instance.dresult\n",
    "\n",
    "        self.df = pd.DataFrame.from_dict(self.dict_results).T\n",
    "        self.df['time'] = self.df.index\n",
    "\n",
    "    def simplot(self):\n",
    "        T     = []\n",
    "        N     = []\n",
    "        Y     = []\n",
    "        U_eqc = []\n",
    "        U_eqf = []\n",
    "        Xf    = []\n",
    "        Xc    = []\n",
    "\n",
    "        time = 1\n",
    "        for key in self.dict_results.keys():\n",
    "            N.append(self.dict_results[key]['n'])\n",
    "            Y.append(self.dict_results[key]['y_eq'])\n",
    "            U_eqc.append(self.dict_results[key]['u_eqc'])\n",
    "            U_eqf.append(self.dict_results[key]['u_eqf'])\n",
    "            T.append(time)\n",
    "            Xf.append(self.dict_results[key]['Xf'])\n",
    "            Xc.append(self.dict_results[key]['Xc'])\n",
    "            time = time + 1\n",
    "\n",
    "        fracf = [a/(a+b) for a, b in zip(Xf,Xc)] \n",
    "\n",
    "        fig, ax1 = plt.subplots(figsize=(8, 5))\n",
    "\n",
    "        ax1.plot(T, N, label='population')\n",
    "        ax1.set_xlabel('Time')\n",
    "        ax1.set_ylabel('Population')\n",
    "        ax1.legend(loc=0)\n",
    "\n",
    "        ax2 = ax1.twinx()\n",
    "        ax2.plot(U_eqc, label='use int. commons', linestyle='dashed')\n",
    "        ax2.plot(U_eqf, label='use int. formal', linestyle='dashed')\n",
    "        ax2.plot(Y, label='per. cap. inc.', linestyle='dashed')\n",
    "        ax2.plot(fracf, label='encl. fraction', linestyle='dashed')\n",
    "        ax2.set_ylabel('Per unit values')\n",
    "        ax2.legend(loc=1)"
   ]
  },
  {
   "cell_type": "code",
   "execution_count": 143,
   "id": "9c44e765-70b3-4f44-aa3c-dc0a23c52dfa",
   "metadata": {},
   "outputs": [],
   "source": [
    "Foo = StaticMalthusSim(**init_vals, phi=2, n0=1)"
   ]
  },
  {
   "cell_type": "code",
   "execution_count": 144,
   "id": "3e8a2c75-0cdb-438d-9a87-16baca0463a7",
   "metadata": {},
   "outputs": [
    {
     "data": {
      "image/png": "[encoded data removed]",
      "text/plain": [
       "<Figure size 800x500 with 2 Axes>"
      ]
     },
     "metadata": {},
     "output_type": "display_data"
    }
   ],
   "source": [
    "Foo.simplot()"
   ]
  },
  {
   "cell_type": "markdown",
   "id": "ade801e8-8d94-41ab-adc3-ea775e8fad88",
   "metadata": {},
   "source": [
    "What sorts of weird things can we get out of our economy, just with these simple dynamics? Well..."
   ]
  },
  {
   "cell_type": "code",
   "execution_count": 163,
   "id": "38e814b8-a430-4a0e-a92b-c4abde7dfe50",
   "metadata": {},
   "outputs": [
    {
     "data": {
      "image/png": "[encoded data removed]",
      "text/plain": [
       "<Figure size 800x500 with 2 Axes>"
      ]
     },
     "metadata": {},
     "output_type": "display_data"
    }
   ],
   "source": [
    "testa = {'Xa':100, 'Xn': 0, 'n':1, 'Ac':1, 'Af':2, 'alpha' :0.5}\n",
    "Testa = StaticMalthusSim(**testa, phi=4, t=10)\n",
    "Testa.simplot()"
   ]
  },
  {
   "cell_type": "code",
   "execution_count": 164,
   "id": "cf87db94-ad3c-4047-82c0-bd22a4d6ace7",
   "metadata": {},
   "outputs": [
    {
     "data": {
      "text/html": [
       "<div>\n",
       "<style scoped>\n",
       "    .dataframe tbody tr th:only-of-type {\n",
       "        vertical-align: middle;\n",
       "    }\n",
       "\n",
       "    .dataframe tbody tr th {\n",
       "        vertical-align: top;\n",
       "    }\n",
       "\n",
       "    .dataframe thead th {\n",
       "        text-align: right;\n",
       "    }\n",
       "</style>\n",
       "<table border=\"1\" class=\"dataframe\">\n",
       "  <thead>\n",
       "    <tr style=\"text-align: right;\">\n",
       "      <th></th>\n",
       "      <th>l_eq</th>\n",
       "      <th>g_eq</th>\n",
       "      <th>Xf</th>\n",
       "      <th>Xc</th>\n",
       "      <th>Xa</th>\n",
       "      <th>l_eqc</th>\n",
       "      <th>l_eqf</th>\n",
       "      <th>u_eqc</th>\n",
       "      <th>u_eqf</th>\n",
       "      <th>erate</th>\n",
       "      <th>w_eq</th>\n",
       "      <th>r_eq</th>\n",
       "      <th>y_eq</th>\n",
       "      <th>n</th>\n",
       "      <th>time</th>\n",
       "    </tr>\n",
       "  </thead>\n",
       "  <tbody>\n",
       "    <tr>\n",
       "      <th>0</th>\n",
       "      <td>1.000000</td>\n",
       "      <td>0.000000</td>\n",
       "      <td>0.000000</td>\n",
       "      <td>100.000000</td>\n",
       "      <td>100.0</td>\n",
       "      <td>1.000000</td>\n",
       "      <td>0.000000</td>\n",
       "      <td>0.010000</td>\n",
       "      <td>0.000000</td>\n",
       "      <td>0.000000</td>\n",
       "      <td>10.000000</td>\n",
       "      <td>0.000000</td>\n",
       "      <td>10.000000</td>\n",
       "      <td>1.000000</td>\n",
       "      <td>0</td>\n",
       "    </tr>\n",
       "    <tr>\n",
       "      <th>1</th>\n",
       "      <td>1.000000</td>\n",
       "      <td>0.000000</td>\n",
       "      <td>0.000000</td>\n",
       "      <td>100.000000</td>\n",
       "      <td>100.0</td>\n",
       "      <td>1.000000</td>\n",
       "      <td>0.000000</td>\n",
       "      <td>0.400000</td>\n",
       "      <td>0.000000</td>\n",
       "      <td>0.000000</td>\n",
       "      <td>1.581139</td>\n",
       "      <td>0.000000</td>\n",
       "      <td>1.581139</td>\n",
       "      <td>40.000000</td>\n",
       "      <td>1</td>\n",
       "    </tr>\n",
       "    <tr>\n",
       "      <th>2</th>\n",
       "      <td>0.697642</td>\n",
       "      <td>0.302358</td>\n",
       "      <td>43.339921</td>\n",
       "      <td>56.660079</td>\n",
       "      <td>100.0</td>\n",
       "      <td>0.395285</td>\n",
       "      <td>0.302358</td>\n",
       "      <td>1.764911</td>\n",
       "      <td>1.764911</td>\n",
       "      <td>0.433399</td>\n",
       "      <td>0.752729</td>\n",
       "      <td>1.328500</td>\n",
       "      <td>0.752729</td>\n",
       "      <td>252.982213</td>\n",
       "      <td>2</td>\n",
       "    </tr>\n",
       "    <tr>\n",
       "      <th>3</th>\n",
       "      <td>0.565642</td>\n",
       "      <td>0.434358</td>\n",
       "      <td>76.790284</td>\n",
       "      <td>23.209716</td>\n",
       "      <td>100.0</td>\n",
       "      <td>0.131284</td>\n",
       "      <td>0.434358</td>\n",
       "      <td>4.308540</td>\n",
       "      <td>4.308540</td>\n",
       "      <td>0.767903</td>\n",
       "      <td>0.481765</td>\n",
       "      <td>2.075702</td>\n",
       "      <td>0.481765</td>\n",
       "      <td>761.708085</td>\n",
       "      <td>3</td>\n",
       "    </tr>\n",
       "    <tr>\n",
       "      <th>4</th>\n",
       "      <td>0.534063</td>\n",
       "      <td>0.465937</td>\n",
       "      <td>87.243727</td>\n",
       "      <td>12.756273</td>\n",
       "      <td>100.0</td>\n",
       "      <td>0.068127</td>\n",
       "      <td>0.465937</td>\n",
       "      <td>7.839280</td>\n",
       "      <td>7.839280</td>\n",
       "      <td>0.872437</td>\n",
       "      <td>0.357159</td>\n",
       "      <td>2.799871</td>\n",
       "      <td>0.357159</td>\n",
       "      <td>1467.856062</td>\n",
       "      <td>4</td>\n",
       "    </tr>\n",
       "    <tr>\n",
       "      <th>5</th>\n",
       "      <td>0.523843</td>\n",
       "      <td>0.476157</td>\n",
       "      <td>90.896816</td>\n",
       "      <td>9.103184</td>\n",
       "      <td>100.0</td>\n",
       "      <td>0.047686</td>\n",
       "      <td>0.476157</td>\n",
       "      <td>10.985167</td>\n",
       "      <td>10.985167</td>\n",
       "      <td>0.908968</td>\n",
       "      <td>0.301715</td>\n",
       "      <td>3.314388</td>\n",
       "      <td>0.301715</td>\n",
       "      <td>2097.033484</td>\n",
       "      <td>5</td>\n",
       "    </tr>\n",
       "    <tr>\n",
       "      <th>6</th>\n",
       "      <td>0.519756</td>\n",
       "      <td>0.480244</td>\n",
       "      <td>92.397820</td>\n",
       "      <td>7.602180</td>\n",
       "      <td>100.0</td>\n",
       "      <td>0.039513</td>\n",
       "      <td>0.480244</td>\n",
       "      <td>13.154122</td>\n",
       "      <td>13.154122</td>\n",
       "      <td>0.923978</td>\n",
       "      <td>0.275721</td>\n",
       "      <td>3.626861</td>\n",
       "      <td>0.275721</td>\n",
       "      <td>2530.824420</td>\n",
       "      <td>6</td>\n",
       "    </tr>\n",
       "    <tr>\n",
       "      <th>7</th>\n",
       "      <td>0.517913</td>\n",
       "      <td>0.482087</td>\n",
       "      <td>93.082459</td>\n",
       "      <td>6.917541</td>\n",
       "      <td>100.0</td>\n",
       "      <td>0.035827</td>\n",
       "      <td>0.482087</td>\n",
       "      <td>14.456004</td>\n",
       "      <td>14.456004</td>\n",
       "      <td>0.930825</td>\n",
       "      <td>0.263012</td>\n",
       "      <td>3.802105</td>\n",
       "      <td>0.263012</td>\n",
       "      <td>2791.200751</td>\n",
       "      <td>7</td>\n",
       "    </tr>\n",
       "    <tr>\n",
       "      <th>8</th>\n",
       "      <td>0.517027</td>\n",
       "      <td>0.482973</td>\n",
       "      <td>93.413424</td>\n",
       "      <td>6.586576</td>\n",
       "      <td>100.0</td>\n",
       "      <td>0.034054</td>\n",
       "      <td>0.482973</td>\n",
       "      <td>15.182396</td>\n",
       "      <td>15.182396</td>\n",
       "      <td>0.934134</td>\n",
       "      <td>0.256643</td>\n",
       "      <td>3.896459</td>\n",
       "      <td>0.256643</td>\n",
       "      <td>2936.479264</td>\n",
       "      <td>8</td>\n",
       "    </tr>\n",
       "    <tr>\n",
       "      <th>9</th>\n",
       "      <td>0.516586</td>\n",
       "      <td>0.483414</td>\n",
       "      <td>93.578445</td>\n",
       "      <td>6.421555</td>\n",
       "      <td>100.0</td>\n",
       "      <td>0.033173</td>\n",
       "      <td>0.483414</td>\n",
       "      <td>15.572551</td>\n",
       "      <td>15.572551</td>\n",
       "      <td>0.935784</td>\n",
       "      <td>0.253408</td>\n",
       "      <td>3.946207</td>\n",
       "      <td>0.253408</td>\n",
       "      <td>3014.510270</td>\n",
       "      <td>9</td>\n",
       "    </tr>\n",
       "    <tr>\n",
       "      <th>10</th>\n",
       "      <td>0.516363</td>\n",
       "      <td>0.483637</td>\n",
       "      <td>93.662066</td>\n",
       "      <td>6.337934</td>\n",
       "      <td>100.0</td>\n",
       "      <td>0.032727</td>\n",
       "      <td>0.483637</td>\n",
       "      <td>15.778013</td>\n",
       "      <td>15.778013</td>\n",
       "      <td>0.936621</td>\n",
       "      <td>0.251753</td>\n",
       "      <td>3.972155</td>\n",
       "      <td>0.251753</td>\n",
       "      <td>3055.602617</td>\n",
       "      <td>10</td>\n",
       "    </tr>\n",
       "  </tbody>\n",
       "</table>\n",
       "</div>"
      ],
      "text/plain": [
       "        l_eq      g_eq         Xf          Xc     Xa     l_eqc     l_eqf  \\\n",
       "0   1.000000  0.000000   0.000000  100.000000  100.0  1.000000  0.000000   \n",
       "1   1.000000  0.000000   0.000000  100.000000  100.0  1.000000  0.000000   \n",
       "2   0.697642  0.302358  43.339921   56.660079  100.0  0.395285  0.302358   \n",
       "3   0.565642  0.434358  76.790284   23.209716  100.0  0.131284  0.434358   \n",
       "4   0.534063  0.465937  87.243727   12.756273  100.0  0.068127  0.465937   \n",
       "5   0.523843  0.476157  90.896816    9.103184  100.0  0.047686  0.476157   \n",
       "6   0.519756  0.480244  92.397820    7.602180  100.0  0.039513  0.480244   \n",
       "7   0.517913  0.482087  93.082459    6.917541  100.0  0.035827  0.482087   \n",
       "8   0.517027  0.482973  93.413424    6.586576  100.0  0.034054  0.482973   \n",
       "9   0.516586  0.483414  93.578445    6.421555  100.0  0.033173  0.483414   \n",
       "10  0.516363  0.483637  93.662066    6.337934  100.0  0.032727  0.483637   \n",
       "\n",
       "        u_eqc      u_eqf     erate       w_eq      r_eq       y_eq  \\\n",
       "0    0.010000   0.000000  0.000000  10.000000  0.000000  10.000000   \n",
       "1    0.400000   0.000000  0.000000   1.581139  0.000000   1.581139   \n",
       "2    1.764911   1.764911  0.433399   0.752729  1.328500   0.752729   \n",
       "3    4.308540   4.308540  0.767903   0.481765  2.075702   0.481765   \n",
       "4    7.839280   7.839280  0.872437   0.357159  2.799871   0.357159   \n",
       "5   10.985167  10.985167  0.908968   0.301715  3.314388   0.301715   \n",
       "6   13.154122  13.154122  0.923978   0.275721  3.626861   0.275721   \n",
       "7   14.456004  14.456004  0.930825   0.263012  3.802105   0.263012   \n",
       "8   15.182396  15.182396  0.934134   0.256643  3.896459   0.256643   \n",
       "9   15.572551  15.572551  0.935784   0.253408  3.946207   0.253408   \n",
       "10  15.778013  15.778013  0.936621   0.251753  3.972155   0.251753   \n",
       "\n",
       "              n  time  \n",
       "0      1.000000     0  \n",
       "1     40.000000     1  \n",
       "2    252.982213     2  \n",
       "3    761.708085     3  \n",
       "4   1467.856062     4  \n",
       "5   2097.033484     5  \n",
       "6   2530.824420     6  \n",
       "7   2791.200751     7  \n",
       "8   2936.479264     8  \n",
       "9   3014.510270     9  \n",
       "10  3055.602617    10  "
      ]
     },
     "execution_count": 164,
     "metadata": {},
     "output_type": "execute_result"
    }
   ],
   "source": [
    "Testa.df"
   ]
  },
  {
   "cell_type": "code",
   "execution_count": 166,
   "id": "a545aefd-9b8d-4ebe-87ce-3e12175771f3",
   "metadata": {},
   "outputs": [
    {
     "data": {
      "image/png": "[encoded data removed]",
      "text/plain": [
       "<Figure size 800x500 with 2 Axes>"
      ]
     },
     "metadata": {},
     "output_type": "display_data"
    }
   ],
   "source": [
    "testb = {'Xa':100, 'Xn': 0, 'n':1, 'Ac':2, 'Af':1, 'alpha' :0.5}\n",
    "Testb = StaticMalthusSim(**testb, phi=6, t=25)\n",
    "Testb.simplot()"
   ]
  },
  {
   "cell_type": "code",
   "execution_count": 167,
   "id": "cd1adbeb-8da7-4419-a7ff-60b2262ef954",
   "metadata": {},
   "outputs": [
    {
     "data": {
      "text/html": [
       "<div>\n",
       "<style scoped>\n",
       "    .dataframe tbody tr th:only-of-type {\n",
       "        vertical-align: middle;\n",
       "    }\n",
       "\n",
       "    .dataframe tbody tr th {\n",
       "        vertical-align: top;\n",
       "    }\n",
       "\n",
       "    .dataframe thead th {\n",
       "        text-align: right;\n",
       "    }\n",
       "</style>\n",
       "<table border=\"1\" class=\"dataframe\">\n",
       "  <thead>\n",
       "    <tr style=\"text-align: right;\">\n",
       "      <th></th>\n",
       "      <th>l_eq</th>\n",
       "      <th>g_eq</th>\n",
       "      <th>Xf</th>\n",
       "      <th>Xc</th>\n",
       "      <th>Xa</th>\n",
       "      <th>l_eqc</th>\n",
       "      <th>l_eqf</th>\n",
       "      <th>u_eqc</th>\n",
       "      <th>u_eqf</th>\n",
       "      <th>erate</th>\n",
       "      <th>w_eq</th>\n",
       "      <th>r_eq</th>\n",
       "      <th>y_eq</th>\n",
       "      <th>n</th>\n",
       "      <th>time</th>\n",
       "    </tr>\n",
       "  </thead>\n",
       "  <tbody>\n",
       "    <tr>\n",
       "      <th>0</th>\n",
       "      <td>1.000000</td>\n",
       "      <td>0.000000</td>\n",
       "      <td>0.000000</td>\n",
       "      <td>100.000000</td>\n",
       "      <td>100.0</td>\n",
       "      <td>1.000000</td>\n",
       "      <td>0.000000</td>\n",
       "      <td>0.010000</td>\n",
       "      <td>0.000000</td>\n",
       "      <td>0.000000</td>\n",
       "      <td>20.000000</td>\n",
       "      <td>0.000000</td>\n",
       "      <td>20.000000</td>\n",
       "      <td>1.000000</td>\n",
       "      <td>0</td>\n",
       "    </tr>\n",
       "    <tr>\n",
       "      <th>1</th>\n",
       "      <td>1.000000</td>\n",
       "      <td>0.000000</td>\n",
       "      <td>0.000000</td>\n",
       "      <td>100.000000</td>\n",
       "      <td>100.0</td>\n",
       "      <td>1.000000</td>\n",
       "      <td>0.000000</td>\n",
       "      <td>1.200000</td>\n",
       "      <td>0.000000</td>\n",
       "      <td>0.000000</td>\n",
       "      <td>1.825742</td>\n",
       "      <td>0.000000</td>\n",
       "      <td>1.825742</td>\n",
       "      <td>120.000000</td>\n",
       "      <td>1</td>\n",
       "    </tr>\n",
       "    <tr>\n",
       "      <th>2</th>\n",
       "      <td>1.000000</td>\n",
       "      <td>0.000000</td>\n",
       "      <td>0.000000</td>\n",
       "      <td>100.000000</td>\n",
       "      <td>100.0</td>\n",
       "      <td>1.000000</td>\n",
       "      <td>0.000000</td>\n",
       "      <td>13.145341</td>\n",
       "      <td>0.000000</td>\n",
       "      <td>0.000000</td>\n",
       "      <td>0.551625</td>\n",
       "      <td>0.000000</td>\n",
       "      <td>0.551625</td>\n",
       "      <td>1314.534138</td>\n",
       "      <td>2</td>\n",
       "    </tr>\n",
       "    <tr>\n",
       "      <th>3</th>\n",
       "      <td>0.683875</td>\n",
       "      <td>0.316125</td>\n",
       "      <td>93.222132</td>\n",
       "      <td>6.777868</td>\n",
       "      <td>100.0</td>\n",
       "      <td>0.367750</td>\n",
       "      <td>0.316125</td>\n",
       "      <td>236.062446</td>\n",
       "      <td>14.753903</td>\n",
       "      <td>0.932221</td>\n",
       "      <td>0.130172</td>\n",
       "      <td>1.920540</td>\n",
       "      <td>0.130172</td>\n",
       "      <td>4350.780572</td>\n",
       "      <td>3</td>\n",
       "    </tr>\n",
       "    <tr>\n",
       "      <th>4</th>\n",
       "      <td>0.735426</td>\n",
       "      <td>0.264574</td>\n",
       "      <td>89.990445</td>\n",
       "      <td>10.009555</td>\n",
       "      <td>100.0</td>\n",
       "      <td>0.470853</td>\n",
       "      <td>0.264574</td>\n",
       "      <td>159.847261</td>\n",
       "      <td>9.990454</td>\n",
       "      <td>0.899904</td>\n",
       "      <td>0.158189</td>\n",
       "      <td>1.580384</td>\n",
       "      <td>0.158189</td>\n",
       "      <td>3398.090769</td>\n",
       "      <td>4</td>\n",
       "    </tr>\n",
       "    <tr>\n",
       "      <th>5</th>\n",
       "      <td>0.748043</td>\n",
       "      <td>0.251957</td>\n",
       "      <td>89.042607</td>\n",
       "      <td>10.957393</td>\n",
       "      <td>100.0</td>\n",
       "      <td>0.496085</td>\n",
       "      <td>0.251957</td>\n",
       "      <td>146.020141</td>\n",
       "      <td>9.126259</td>\n",
       "      <td>0.890426</td>\n",
       "      <td>0.165510</td>\n",
       "      <td>1.510485</td>\n",
       "      <td>0.165510</td>\n",
       "      <td>3225.251763</td>\n",
       "      <td>5</td>\n",
       "    </tr>\n",
       "    <tr>\n",
       "      <th>6</th>\n",
       "      <td>0.749776</td>\n",
       "      <td>0.250224</td>\n",
       "      <td>88.906539</td>\n",
       "      <td>11.093461</td>\n",
       "      <td>100.0</td>\n",
       "      <td>0.499553</td>\n",
       "      <td>0.250224</td>\n",
       "      <td>144.229113</td>\n",
       "      <td>9.014320</td>\n",
       "      <td>0.889065</td>\n",
       "      <td>0.166534</td>\n",
       "      <td>1.501193</td>\n",
       "      <td>0.166534</td>\n",
       "      <td>3202.863908</td>\n",
       "      <td>6</td>\n",
       "    </tr>\n",
       "    <tr>\n",
       "      <th>7</th>\n",
       "      <td>0.749975</td>\n",
       "      <td>0.250025</td>\n",
       "      <td>88.890857</td>\n",
       "      <td>11.109143</td>\n",
       "      <td>100.0</td>\n",
       "      <td>0.499950</td>\n",
       "      <td>0.250025</td>\n",
       "      <td>144.025518</td>\n",
       "      <td>9.001595</td>\n",
       "      <td>0.888909</td>\n",
       "      <td>0.166652</td>\n",
       "      <td>1.500133</td>\n",
       "      <td>0.166652</td>\n",
       "      <td>3200.318970</td>\n",
       "      <td>7</td>\n",
       "    </tr>\n",
       "    <tr>\n",
       "      <th>8</th>\n",
       "      <td>0.749997</td>\n",
       "      <td>0.250003</td>\n",
       "      <td>88.889108</td>\n",
       "      <td>11.110892</td>\n",
       "      <td>100.0</td>\n",
       "      <td>0.499994</td>\n",
       "      <td>0.250003</td>\n",
       "      <td>144.002836</td>\n",
       "      <td>9.000177</td>\n",
       "      <td>0.888891</td>\n",
       "      <td>0.166665</td>\n",
       "      <td>1.500015</td>\n",
       "      <td>0.166665</td>\n",
       "      <td>3200.035451</td>\n",
       "      <td>8</td>\n",
       "    </tr>\n",
       "    <tr>\n",
       "      <th>9</th>\n",
       "      <td>0.750000</td>\n",
       "      <td>0.250000</td>\n",
       "      <td>88.888913</td>\n",
       "      <td>11.111087</td>\n",
       "      <td>100.0</td>\n",
       "      <td>0.499999</td>\n",
       "      <td>0.250000</td>\n",
       "      <td>144.000315</td>\n",
       "      <td>9.000020</td>\n",
       "      <td>0.888889</td>\n",
       "      <td>0.166666</td>\n",
       "      <td>1.500002</td>\n",
       "      <td>0.166666</td>\n",
       "      <td>3200.003939</td>\n",
       "      <td>9</td>\n",
       "    </tr>\n",
       "    <tr>\n",
       "      <th>10</th>\n",
       "      <td>0.750000</td>\n",
       "      <td>0.250000</td>\n",
       "      <td>88.888892</td>\n",
       "      <td>11.111108</td>\n",
       "      <td>100.0</td>\n",
       "      <td>0.500000</td>\n",
       "      <td>0.250000</td>\n",
       "      <td>144.000035</td>\n",
       "      <td>9.000002</td>\n",
       "      <td>0.888889</td>\n",
       "      <td>0.166667</td>\n",
       "      <td>1.500000</td>\n",
       "      <td>0.166667</td>\n",
       "      <td>3200.000438</td>\n",
       "      <td>10</td>\n",
       "    </tr>\n",
       "    <tr>\n",
       "      <th>11</th>\n",
       "      <td>0.750000</td>\n",
       "      <td>0.250000</td>\n",
       "      <td>88.888889</td>\n",
       "      <td>11.111111</td>\n",
       "      <td>100.0</td>\n",
       "      <td>0.500000</td>\n",
       "      <td>0.250000</td>\n",
       "      <td>144.000004</td>\n",
       "      <td>9.000000</td>\n",
       "      <td>0.888889</td>\n",
       "      <td>0.166667</td>\n",
       "      <td>1.500000</td>\n",
       "      <td>0.166667</td>\n",
       "      <td>3200.000049</td>\n",
       "      <td>11</td>\n",
       "    </tr>\n",
       "    <tr>\n",
       "      <th>12</th>\n",
       "      <td>0.750000</td>\n",
       "      <td>0.250000</td>\n",
       "      <td>88.888889</td>\n",
       "      <td>11.111111</td>\n",
       "      <td>100.0</td>\n",
       "      <td>0.500000</td>\n",
       "      <td>0.250000</td>\n",
       "      <td>144.000000</td>\n",
       "      <td>9.000000</td>\n",
       "      <td>0.888889</td>\n",
       "      <td>0.166667</td>\n",
       "      <td>1.500000</td>\n",
       "      <td>0.166667</td>\n",
       "      <td>3200.000005</td>\n",
       "      <td>12</td>\n",
       "    </tr>\n",
       "    <tr>\n",
       "      <th>13</th>\n",
       "      <td>0.750000</td>\n",
       "      <td>0.250000</td>\n",
       "      <td>88.888889</td>\n",
       "      <td>11.111111</td>\n",
       "      <td>100.0</td>\n",
       "      <td>0.500000</td>\n",
       "      <td>0.250000</td>\n",
       "      <td>144.000000</td>\n",
       "      <td>9.000000</td>\n",
       "      <td>0.888889</td>\n",
       "      <td>0.166667</td>\n",
       "      <td>1.500000</td>\n",
       "      <td>0.166667</td>\n",
       "      <td>3200.000001</td>\n",
       "      <td>13</td>\n",
       "    </tr>\n",
       "    <tr>\n",
       "      <th>14</th>\n",
       "      <td>0.750000</td>\n",
       "      <td>0.250000</td>\n",
       "      <td>88.888889</td>\n",
       "      <td>11.111111</td>\n",
       "      <td>100.0</td>\n",
       "      <td>0.500000</td>\n",
       "      <td>0.250000</td>\n",
       "      <td>144.000000</td>\n",
       "      <td>9.000000</td>\n",
       "      <td>0.888889</td>\n",
       "      <td>0.166667</td>\n",
       "      <td>1.500000</td>\n",
       "      <td>0.166667</td>\n",
       "      <td>3200.000000</td>\n",
       "      <td>14</td>\n",
       "    </tr>\n",
       "    <tr>\n",
       "      <th>15</th>\n",
       "      <td>0.750000</td>\n",
       "      <td>0.250000</td>\n",
       "      <td>88.888889</td>\n",
       "      <td>11.111111</td>\n",
       "      <td>100.0</td>\n",
       "      <td>0.500000</td>\n",
       "      <td>0.250000</td>\n",
       "      <td>144.000000</td>\n",
       "      <td>9.000000</td>\n",
       "      <td>0.888889</td>\n",
       "      <td>0.166667</td>\n",
       "      <td>1.500000</td>\n",
       "      <td>0.166667</td>\n",
       "      <td>3200.000000</td>\n",
       "      <td>15</td>\n",
       "    </tr>\n",
       "    <tr>\n",
       "      <th>16</th>\n",
       "      <td>0.750000</td>\n",
       "      <td>0.250000</td>\n",
       "      <td>88.888889</td>\n",
       "      <td>11.111111</td>\n",
       "      <td>100.0</td>\n",
       "      <td>0.500000</td>\n",
       "      <td>0.250000</td>\n",
       "      <td>144.000000</td>\n",
       "      <td>9.000000</td>\n",
       "      <td>0.888889</td>\n",
       "      <td>0.166667</td>\n",
       "      <td>1.500000</td>\n",
       "      <td>0.166667</td>\n",
       "      <td>3200.000000</td>\n",
       "      <td>16</td>\n",
       "    </tr>\n",
       "    <tr>\n",
       "      <th>17</th>\n",
       "      <td>0.750000</td>\n",
       "      <td>0.250000</td>\n",
       "      <td>88.888889</td>\n",
       "      <td>11.111111</td>\n",
       "      <td>100.0</td>\n",
       "      <td>0.500000</td>\n",
       "      <td>0.250000</td>\n",
       "      <td>144.000000</td>\n",
       "      <td>9.000000</td>\n",
       "      <td>0.888889</td>\n",
       "      <td>0.166667</td>\n",
       "      <td>1.500000</td>\n",
       "      <td>0.166667</td>\n",
       "      <td>3200.000000</td>\n",
       "      <td>17</td>\n",
       "    </tr>\n",
       "    <tr>\n",
       "      <th>18</th>\n",
       "      <td>0.750000</td>\n",
       "      <td>0.250000</td>\n",
       "      <td>88.888889</td>\n",
       "      <td>11.111111</td>\n",
       "      <td>100.0</td>\n",
       "      <td>0.500000</td>\n",
       "      <td>0.250000</td>\n",
       "      <td>144.000000</td>\n",
       "      <td>9.000000</td>\n",
       "      <td>0.888889</td>\n",
       "      <td>0.166667</td>\n",
       "      <td>1.500000</td>\n",
       "      <td>0.166667</td>\n",
       "      <td>3200.000000</td>\n",
       "      <td>18</td>\n",
       "    </tr>\n",
       "    <tr>\n",
       "      <th>19</th>\n",
       "      <td>0.750000</td>\n",
       "      <td>0.250000</td>\n",
       "      <td>88.888889</td>\n",
       "      <td>11.111111</td>\n",
       "      <td>100.0</td>\n",
       "      <td>0.500000</td>\n",
       "      <td>0.250000</td>\n",
       "      <td>144.000000</td>\n",
       "      <td>9.000000</td>\n",
       "      <td>0.888889</td>\n",
       "      <td>0.166667</td>\n",
       "      <td>1.500000</td>\n",
       "      <td>0.166667</td>\n",
       "      <td>3200.000000</td>\n",
       "      <td>19</td>\n",
       "    </tr>\n",
       "    <tr>\n",
       "      <th>20</th>\n",
       "      <td>0.750000</td>\n",
       "      <td>0.250000</td>\n",
       "      <td>88.888889</td>\n",
       "      <td>11.111111</td>\n",
       "      <td>100.0</td>\n",
       "      <td>0.500000</td>\n",
       "      <td>0.250000</td>\n",
       "      <td>144.000000</td>\n",
       "      <td>9.000000</td>\n",
       "      <td>0.888889</td>\n",
       "      <td>0.166667</td>\n",
       "      <td>1.500000</td>\n",
       "      <td>0.166667</td>\n",
       "      <td>3200.000000</td>\n",
       "      <td>20</td>\n",
       "    </tr>\n",
       "    <tr>\n",
       "      <th>21</th>\n",
       "      <td>0.750000</td>\n",
       "      <td>0.250000</td>\n",
       "      <td>88.888889</td>\n",
       "      <td>11.111111</td>\n",
       "      <td>100.0</td>\n",
       "      <td>0.500000</td>\n",
       "      <td>0.250000</td>\n",
       "      <td>144.000000</td>\n",
       "      <td>9.000000</td>\n",
       "      <td>0.888889</td>\n",
       "      <td>0.166667</td>\n",
       "      <td>1.500000</td>\n",
       "      <td>0.166667</td>\n",
       "      <td>3200.000000</td>\n",
       "      <td>21</td>\n",
       "    </tr>\n",
       "    <tr>\n",
       "      <th>22</th>\n",
       "      <td>0.750000</td>\n",
       "      <td>0.250000</td>\n",
       "      <td>88.888889</td>\n",
       "      <td>11.111111</td>\n",
       "      <td>100.0</td>\n",
       "      <td>0.500000</td>\n",
       "      <td>0.250000</td>\n",
       "      <td>144.000000</td>\n",
       "      <td>9.000000</td>\n",
       "      <td>0.888889</td>\n",
       "      <td>0.166667</td>\n",
       "      <td>1.500000</td>\n",
       "      <td>0.166667</td>\n",
       "      <td>3200.000000</td>\n",
       "      <td>22</td>\n",
       "    </tr>\n",
       "    <tr>\n",
       "      <th>23</th>\n",
       "      <td>0.750000</td>\n",
       "      <td>0.250000</td>\n",
       "      <td>88.888889</td>\n",
       "      <td>11.111111</td>\n",
       "      <td>100.0</td>\n",
       "      <td>0.500000</td>\n",
       "      <td>0.250000</td>\n",
       "      <td>144.000000</td>\n",
       "      <td>9.000000</td>\n",
       "      <td>0.888889</td>\n",
       "      <td>0.166667</td>\n",
       "      <td>1.500000</td>\n",
       "      <td>0.166667</td>\n",
       "      <td>3200.000000</td>\n",
       "      <td>23</td>\n",
       "    </tr>\n",
       "    <tr>\n",
       "      <th>24</th>\n",
       "      <td>0.750000</td>\n",
       "      <td>0.250000</td>\n",
       "      <td>88.888889</td>\n",
       "      <td>11.111111</td>\n",
       "      <td>100.0</td>\n",
       "      <td>0.500000</td>\n",
       "      <td>0.250000</td>\n",
       "      <td>144.000000</td>\n",
       "      <td>9.000000</td>\n",
       "      <td>0.888889</td>\n",
       "      <td>0.166667</td>\n",
       "      <td>1.500000</td>\n",
       "      <td>0.166667</td>\n",
       "      <td>3200.000000</td>\n",
       "      <td>24</td>\n",
       "    </tr>\n",
       "    <tr>\n",
       "      <th>25</th>\n",
       "      <td>0.750000</td>\n",
       "      <td>0.250000</td>\n",
       "      <td>88.888889</td>\n",
       "      <td>11.111111</td>\n",
       "      <td>100.0</td>\n",
       "      <td>0.500000</td>\n",
       "      <td>0.250000</td>\n",
       "      <td>144.000000</td>\n",
       "      <td>9.000000</td>\n",
       "      <td>0.888889</td>\n",
       "      <td>0.166667</td>\n",
       "      <td>1.500000</td>\n",
       "      <td>0.166667</td>\n",
       "      <td>3200.000000</td>\n",
       "      <td>25</td>\n",
       "    </tr>\n",
       "  </tbody>\n",
       "</table>\n",
       "</div>"
      ],
      "text/plain": [
       "        l_eq      g_eq         Xf          Xc     Xa     l_eqc     l_eqf  \\\n",
       "0   1.000000  0.000000   0.000000  100.000000  100.0  1.000000  0.000000   \n",
       "1   1.000000  0.000000   0.000000  100.000000  100.0  1.000000  0.000000   \n",
       "2   1.000000  0.000000   0.000000  100.000000  100.0  1.000000  0.000000   \n",
       "3   0.683875  0.316125  93.222132    6.777868  100.0  0.367750  0.316125   \n",
       "4   0.735426  0.264574  89.990445   10.009555  100.0  0.470853  0.264574   \n",
       "5   0.748043  0.251957  89.042607   10.957393  100.0  0.496085  0.251957   \n",
       "6   0.749776  0.250224  88.906539   11.093461  100.0  0.499553  0.250224   \n",
       "7   0.749975  0.250025  88.890857   11.109143  100.0  0.499950  0.250025   \n",
       "8   0.749997  0.250003  88.889108   11.110892  100.0  0.499994  0.250003   \n",
       "9   0.750000  0.250000  88.888913   11.111087  100.0  0.499999  0.250000   \n",
       "10  0.750000  0.250000  88.888892   11.111108  100.0  0.500000  0.250000   \n",
       "11  0.750000  0.250000  88.888889   11.111111  100.0  0.500000  0.250000   \n",
       "12  0.750000  0.250000  88.888889   11.111111  100.0  0.500000  0.250000   \n",
       "13  0.750000  0.250000  88.888889   11.111111  100.0  0.500000  0.250000   \n",
       "14  0.750000  0.250000  88.888889   11.111111  100.0  0.500000  0.250000   \n",
       "15  0.750000  0.250000  88.888889   11.111111  100.0  0.500000  0.250000   \n",
       "16  0.750000  0.250000  88.888889   11.111111  100.0  0.500000  0.250000   \n",
       "17  0.750000  0.250000  88.888889   11.111111  100.0  0.500000  0.250000   \n",
       "18  0.750000  0.250000  88.888889   11.111111  100.0  0.500000  0.250000   \n",
       "19  0.750000  0.250000  88.888889   11.111111  100.0  0.500000  0.250000   \n",
       "20  0.750000  0.250000  88.888889   11.111111  100.0  0.500000  0.250000   \n",
       "21  0.750000  0.250000  88.888889   11.111111  100.0  0.500000  0.250000   \n",
       "22  0.750000  0.250000  88.888889   11.111111  100.0  0.500000  0.250000   \n",
       "23  0.750000  0.250000  88.888889   11.111111  100.0  0.500000  0.250000   \n",
       "24  0.750000  0.250000  88.888889   11.111111  100.0  0.500000  0.250000   \n",
       "25  0.750000  0.250000  88.888889   11.111111  100.0  0.500000  0.250000   \n",
       "\n",
       "         u_eqc      u_eqf     erate       w_eq      r_eq       y_eq  \\\n",
       "0     0.010000   0.000000  0.000000  20.000000  0.000000  20.000000   \n",
       "1     1.200000   0.000000  0.000000   1.825742  0.000000   1.825742   \n",
       "2    13.145341   0.000000  0.000000   0.551625  0.000000   0.551625   \n",
       "3   236.062446  14.753903  0.932221   0.130172  1.920540   0.130172   \n",
       "4   159.847261   9.990454  0.899904   0.158189  1.580384   0.158189   \n",
       "5   146.020141   9.126259  0.890426   0.165510  1.510485   0.165510   \n",
       "6   144.229113   9.014320  0.889065   0.166534  1.501193   0.166534   \n",
       "7   144.025518   9.001595  0.888909   0.166652  1.500133   0.166652   \n",
       "8   144.002836   9.000177  0.888891   0.166665  1.500015   0.166665   \n",
       "9   144.000315   9.000020  0.888889   0.166666  1.500002   0.166666   \n",
       "10  144.000035   9.000002  0.888889   0.166667  1.500000   0.166667   \n",
       "11  144.000004   9.000000  0.888889   0.166667  1.500000   0.166667   \n",
       "12  144.000000   9.000000  0.888889   0.166667  1.500000   0.166667   \n",
       "13  144.000000   9.000000  0.888889   0.166667  1.500000   0.166667   \n",
       "14  144.000000   9.000000  0.888889   0.166667  1.500000   0.166667   \n",
       "15  144.000000   9.000000  0.888889   0.166667  1.500000   0.166667   \n",
       "16  144.000000   9.000000  0.888889   0.166667  1.500000   0.166667   \n",
       "17  144.000000   9.000000  0.888889   0.166667  1.500000   0.166667   \n",
       "18  144.000000   9.000000  0.888889   0.166667  1.500000   0.166667   \n",
       "19  144.000000   9.000000  0.888889   0.166667  1.500000   0.166667   \n",
       "20  144.000000   9.000000  0.888889   0.166667  1.500000   0.166667   \n",
       "21  144.000000   9.000000  0.888889   0.166667  1.500000   0.166667   \n",
       "22  144.000000   9.000000  0.888889   0.166667  1.500000   0.166667   \n",
       "23  144.000000   9.000000  0.888889   0.166667  1.500000   0.166667   \n",
       "24  144.000000   9.000000  0.888889   0.166667  1.500000   0.166667   \n",
       "25  144.000000   9.000000  0.888889   0.166667  1.500000   0.166667   \n",
       "\n",
       "              n  time  \n",
       "0      1.000000     0  \n",
       "1    120.000000     1  \n",
       "2   1314.534138     2  \n",
       "3   4350.780572     3  \n",
       "4   3398.090769     4  \n",
       "5   3225.251763     5  \n",
       "6   3202.863908     6  \n",
       "7   3200.318970     7  \n",
       "8   3200.035451     8  \n",
       "9   3200.003939     9  \n",
       "10  3200.000438    10  \n",
       "11  3200.000049    11  \n",
       "12  3200.000005    12  \n",
       "13  3200.000001    13  \n",
       "14  3200.000000    14  \n",
       "15  3200.000000    15  \n",
       "16  3200.000000    16  \n",
       "17  3200.000000    17  \n",
       "18  3200.000000    18  \n",
       "19  3200.000000    19  \n",
       "20  3200.000000    20  \n",
       "21  3200.000000    21  \n",
       "22  3200.000000    22  \n",
       "23  3200.000000    23  \n",
       "24  3200.000000    24  \n",
       "25  3200.000000    25  "
      ]
     },
     "execution_count": 167,
     "metadata": {},
     "output_type": "execute_result"
    }
   ],
   "source": [
    "Testb.df"
   ]
  },
  {
   "cell_type": "code",
   "execution_count": null,
   "id": "15758df2-d5e3-4d08-9f5f-39f78ea27b74",
   "metadata": {},
   "outputs": [],
   "source": []
  },
  {
   "cell_type": "code",
   "execution_count": null,
   "id": "750bd741-1194-4441-bf91-a502e8dbc7db",
   "metadata": {},
   "outputs": [],
   "source": []
  },
  {
   "cell_type": "markdown",
   "id": "7cb0f228-6d89-4df4-a866-dc91d7037b69",
   "metadata": {},
   "source": [
    "We would like it to be the case that when $u_{ct}=0$, there is no degradation, while when $u_{ct}=\\infty$ we should have $\\delta=1$. One way of doing this is assuming that:\n",
    "\n",
    "$$\n",
    "\\delta(u) = \\frac{u}{u+\\tau}\n",
    "$$\n",
    "Where $\\tau$ is a toughness parameter. Note then that:\n",
    "\n",
    "$$\n",
    "1-\\frac{u}{u+\\tau} = \\frac{\\tau}{\\tau+u}\n",
    "$$"
   ]
  },
  {
   "cell_type": "markdown",
   "id": "b894f955-fa36-4511-9dce-4c02ce2d10f1",
   "metadata": {},
   "source": [
    "I'm not sure if it helps, but, in the case of, say, common land, we can write this as:\n",
    "\n",
    "$$\n",
    "\\frac{\\tau_{c}}{u_{ct}+\\tau_c}\n",
    "$$"
   ]
  },
  {
   "cell_type": "markdown",
   "id": "a572b4a2-a015-4445-9b4b-b0829eb84c6d",
   "metadata": {},
   "source": [
    "And so, now we arrive at a situation in which we have \"surviving\" land that was common as:\n",
    "\n",
    "$$\n",
    "\\frac{\\tau_c}{\\tau_c + u_{ct}}X_{ct}=\\frac{\\tau_c}{\\tau_c + \\frac{L_{ct}}{X_{ct}}}X_{ct}\n",
    "$$\n",
    "\n",
    "Redoing the simulations with degradation..."
   ]
  },
  {
   "cell_type": "code",
   "execution_count": null,
   "id": "24d335ee-b6db-4c32-b60f-39319d291829",
   "metadata": {},
   "outputs": [],
   "source": [
    "dict_of_dicts"
   ]
  }
 ],
 "metadata": {
  "kernelspec": {
   "display_name": "Python 3 (ipykernel)",
   "language": "python",
   "name": "python3"
  },
  "language_info": {
   "codemirror_mode": {
    "name": "ipython",
    "version": 3
   },
   "file_extension": ".py",
   "mimetype": "text/x-python",
   "name": "python",
   "nbconvert_exporter": "python",
   "pygments_lexer": "ipython3",
   "version": "3.11.7"
  }
 },
 "nbformat": 4,
 "nbformat_minor": 5
}
